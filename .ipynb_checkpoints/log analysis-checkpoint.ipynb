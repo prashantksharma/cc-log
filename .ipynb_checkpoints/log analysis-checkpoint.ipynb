{
 "cells": [
  {
   "cell_type": "code",
   "execution_count": 2,
   "metadata": {
    "collapsed": true
   },
   "outputs": [],
   "source": [
    "import pandas as pd\n",
    "import numpy as np\n",
    "import matplotlib.pyplot as plt"
   ]
  },
  {
   "cell_type": "markdown",
   "metadata": {
    "heading_collapsed": true
   },
   "source": [
    "## Rough Work: Start"
   ]
  },
  {
   "cell_type": "code",
   "execution_count": 7,
   "metadata": {
    "collapsed": true,
    "hidden": true
   },
   "outputs": [],
   "source": [
    "table = pd.read_csv('rp20180113_19.log', sep=\":\", names=[\"file\",\"date-hr-mn\",\"type\", \"id\", \"mail_id\"])"
   ]
  },
  {
   "cell_type": "code",
   "execution_count": 8,
   "metadata": {
    "hidden": true
   },
   "outputs": [
    {
     "data": {
      "text/html": [
       "<div>\n",
       "<style scoped>\n",
       "    .dataframe tbody tr th:only-of-type {\n",
       "        vertical-align: middle;\n",
       "    }\n",
       "\n",
       "    .dataframe tbody tr th {\n",
       "        vertical-align: top;\n",
       "    }\n",
       "\n",
       "    .dataframe thead th {\n",
       "        text-align: right;\n",
       "    }\n",
       "</style>\n",
       "<table border=\"1\" class=\"dataframe\">\n",
       "  <thead>\n",
       "    <tr style=\"text-align: right;\">\n",
       "      <th></th>\n",
       "      <th>file</th>\n",
       "      <th>date-hr-mn</th>\n",
       "      <th>type</th>\n",
       "      <th>id</th>\n",
       "      <th>mail_id</th>\n",
       "    </tr>\n",
       "  </thead>\n",
       "  <tbody>\n",
       "    <tr>\n",
       "      <th>0</th>\n",
       "      <td>rp.20180113.gz</td>\n",
       "      <td>Jan 13 00</td>\n",
       "      <td>0</td>\n",
       "      <td>00 rp8 qmail</td>\n",
       "      <td>1515781800.263068 new msg 130628</td>\n",
       "    </tr>\n",
       "    <tr>\n",
       "      <th>1</th>\n",
       "      <td>rp.20180113.gz</td>\n",
       "      <td>Jan 13 00</td>\n",
       "      <td>0</td>\n",
       "      <td>00 rp3 qmail</td>\n",
       "      <td>1515781800.271924 new msg 130614</td>\n",
       "    </tr>\n",
       "    <tr>\n",
       "      <th>2</th>\n",
       "      <td>rp.20180113.gz</td>\n",
       "      <td>Jan 13 00</td>\n",
       "      <td>0</td>\n",
       "      <td>02 rp9 qmail</td>\n",
       "      <td>1515781802.062483 new msg 130633</td>\n",
       "    </tr>\n",
       "    <tr>\n",
       "      <th>3</th>\n",
       "      <td>rp.20180113.gz</td>\n",
       "      <td>Jan 13 00</td>\n",
       "      <td>0</td>\n",
       "      <td>02 rp13 qmail</td>\n",
       "      <td>1515781802.063195 new msg 130604</td>\n",
       "    </tr>\n",
       "    <tr>\n",
       "      <th>4</th>\n",
       "      <td>rp.20180113.gz</td>\n",
       "      <td>Jan 13 00</td>\n",
       "      <td>0</td>\n",
       "      <td>03 rp1 qmail</td>\n",
       "      <td>1515781803.762277 new msg 130692</td>\n",
       "    </tr>\n",
       "  </tbody>\n",
       "</table>\n",
       "</div>"
      ],
      "text/plain": [
       "             file date-hr-mn  type             id  \\\n",
       "0  rp.20180113.gz  Jan 13 00     0   00 rp8 qmail   \n",
       "1  rp.20180113.gz  Jan 13 00     0   00 rp3 qmail   \n",
       "2  rp.20180113.gz  Jan 13 00     0   02 rp9 qmail   \n",
       "3  rp.20180113.gz  Jan 13 00     0  02 rp13 qmail   \n",
       "4  rp.20180113.gz  Jan 13 00     0   03 rp1 qmail   \n",
       "\n",
       "                             mail_id  \n",
       "0   1515781800.263068 new msg 130628  \n",
       "1   1515781800.271924 new msg 130614  \n",
       "2   1515781802.062483 new msg 130633  \n",
       "3   1515781802.063195 new msg 130604  \n",
       "4   1515781803.762277 new msg 130692  "
      ]
     },
     "execution_count": 8,
     "metadata": {},
     "output_type": "execute_result"
    }
   ],
   "source": [
    "table.head()"
   ]
  },
  {
   "cell_type": "code",
   "execution_count": 9,
   "metadata": {
    "hidden": true
   },
   "outputs": [
    {
     "data": {
      "text/plain": [
       "4085948"
      ]
     },
     "execution_count": 9,
     "metadata": {},
     "output_type": "execute_result"
    }
   ],
   "source": [
    "len(table)"
   ]
  },
  {
   "cell_type": "code",
   "execution_count": 13,
   "metadata": {
    "hidden": true
   },
   "outputs": [
    {
     "data": {
      "text/plain": [
       "0     00 rp8 qmail\n",
       "1     00 rp3 qmail\n",
       "2     02 rp9 qmail\n",
       "3    02 rp13 qmail\n",
       "4     03 rp1 qmail\n",
       "Name: id, dtype: object"
      ]
     },
     "execution_count": 13,
     "metadata": {},
     "output_type": "execute_result"
    }
   ],
   "source": [
    "table[\"id\"].head()"
   ]
  },
  {
   "cell_type": "code",
   "execution_count": 16,
   "metadata": {
    "collapsed": true,
    "hidden": true
   },
   "outputs": [],
   "source": [
    "table_csv = pd.read_csv(\"rp20180113_19.log\", names=[\"entry\"])"
   ]
  },
  {
   "cell_type": "code",
   "execution_count": 17,
   "metadata": {
    "hidden": true
   },
   "outputs": [
    {
     "data": {
      "text/html": [
       "<div>\n",
       "<style scoped>\n",
       "    .dataframe tbody tr th:only-of-type {\n",
       "        vertical-align: middle;\n",
       "    }\n",
       "\n",
       "    .dataframe tbody tr th {\n",
       "        vertical-align: top;\n",
       "    }\n",
       "\n",
       "    .dataframe thead th {\n",
       "        text-align: right;\n",
       "    }\n",
       "</style>\n",
       "<table border=\"1\" class=\"dataframe\">\n",
       "  <thead>\n",
       "    <tr style=\"text-align: right;\">\n",
       "      <th></th>\n",
       "      <th>entry</th>\n",
       "    </tr>\n",
       "  </thead>\n",
       "  <tbody>\n",
       "    <tr>\n",
       "      <th>0</th>\n",
       "      <td>rp.20180113.gz:Jan 13 00:00:00 rp8 qmail: 1515...</td>\n",
       "    </tr>\n",
       "    <tr>\n",
       "      <th>1</th>\n",
       "      <td>rp.20180113.gz:Jan 13 00:00:00 rp3 qmail: 1515...</td>\n",
       "    </tr>\n",
       "    <tr>\n",
       "      <th>2</th>\n",
       "      <td>rp.20180113.gz:Jan 13 00:00:02 rp9 qmail: 1515...</td>\n",
       "    </tr>\n",
       "    <tr>\n",
       "      <th>3</th>\n",
       "      <td>rp.20180113.gz:Jan 13 00:00:02 rp13 qmail: 151...</td>\n",
       "    </tr>\n",
       "    <tr>\n",
       "      <th>4</th>\n",
       "      <td>rp.20180113.gz:Jan 13 00:00:03 rp1 qmail: 1515...</td>\n",
       "    </tr>\n",
       "  </tbody>\n",
       "</table>\n",
       "</div>"
      ],
      "text/plain": [
       "                                               entry\n",
       "0  rp.20180113.gz:Jan 13 00:00:00 rp8 qmail: 1515...\n",
       "1  rp.20180113.gz:Jan 13 00:00:00 rp3 qmail: 1515...\n",
       "2  rp.20180113.gz:Jan 13 00:00:02 rp9 qmail: 1515...\n",
       "3  rp.20180113.gz:Jan 13 00:00:02 rp13 qmail: 151...\n",
       "4  rp.20180113.gz:Jan 13 00:00:03 rp1 qmail: 1515..."
      ]
     },
     "execution_count": 17,
     "metadata": {},
     "output_type": "execute_result"
    }
   ],
   "source": [
    "table_csv.head()"
   ]
  },
  {
   "cell_type": "code",
   "execution_count": 23,
   "metadata": {
    "hidden": true
   },
   "outputs": [
    {
     "data": {
      "text/plain": [
       "('rp.20180113.gz:Jan 13 00:00:00 rp3 qmail: 1515781800.271924 new msg 130614',\n",
       " str,\n",
       " 74,\n",
       " 'rp.20180113.gz')"
      ]
     },
     "execution_count": 23,
     "metadata": {},
     "output_type": "execute_result"
    }
   ],
   "source": [
    "table_csv[\"entry\"][1], type(table_csv[\"entry\"][1]), len(table_csv[\"entry\"][1]), table_csv[\"entry\"][1][:14]"
   ]
  },
  {
   "cell_type": "code",
   "execution_count": 25,
   "metadata": {
    "hidden": true
   },
   "outputs": [
    {
     "name": "stderr",
     "output_type": "stream",
     "text": [
      "/home/prakush/anaconda3/lib/python3.6/site-packages/ipykernel_launcher.py:1: UserWarning: Boolean Series key will be reindexed to match DataFrame index.\n",
      "  \"\"\"Entry point for launching an IPython kernel.\n"
     ]
    },
    {
     "ename": "IndexingError",
     "evalue": "Unalignable boolean Series provided as indexer (index of the boolean Series and of the indexed object do not match",
     "output_type": "error",
     "traceback": [
      "\u001b[0;31m---------------------------------------------------------------------------\u001b[0m",
      "\u001b[0;31mIndexingError\u001b[0m                             Traceback (most recent call last)",
      "\u001b[0;32m<ipython-input-25-9f72492290fd>\u001b[0m in \u001b[0;36m<module>\u001b[0;34m()\u001b[0m\n\u001b[0;32m----> 1\u001b[0;31m \u001b[0mtable_csv\u001b[0m\u001b[0;34m[\u001b[0m\u001b[0mtable_csv\u001b[0m\u001b[0;34m[\u001b[0m\u001b[0;34m\"entry\"\u001b[0m\u001b[0;34m]\u001b[0m\u001b[0;34m[\u001b[0m\u001b[0;34m:\u001b[0m\u001b[0;34m]\u001b[0m\u001b[0;34m[\u001b[0m\u001b[0;34m:\u001b[0m\u001b[0;36m14\u001b[0m\u001b[0;34m]\u001b[0m \u001b[0;34m==\u001b[0m \u001b[0;34m'rp.20180113.gz'\u001b[0m\u001b[0;34m]\u001b[0m\u001b[0;34m\u001b[0m\u001b[0m\n\u001b[0m",
      "\u001b[0;32m~/anaconda3/lib/python3.6/site-packages/pandas/core/frame.py\u001b[0m in \u001b[0;36m__getitem__\u001b[0;34m(self, key)\u001b[0m\n\u001b[1;32m   2131\u001b[0m         \u001b[0;32mif\u001b[0m \u001b[0misinstance\u001b[0m\u001b[0;34m(\u001b[0m\u001b[0mkey\u001b[0m\u001b[0;34m,\u001b[0m \u001b[0;34m(\u001b[0m\u001b[0mSeries\u001b[0m\u001b[0;34m,\u001b[0m \u001b[0mnp\u001b[0m\u001b[0;34m.\u001b[0m\u001b[0mndarray\u001b[0m\u001b[0;34m,\u001b[0m \u001b[0mIndex\u001b[0m\u001b[0;34m,\u001b[0m \u001b[0mlist\u001b[0m\u001b[0;34m)\u001b[0m\u001b[0;34m)\u001b[0m\u001b[0;34m:\u001b[0m\u001b[0;34m\u001b[0m\u001b[0m\n\u001b[1;32m   2132\u001b[0m             \u001b[0;31m# either boolean or fancy integer index\u001b[0m\u001b[0;34m\u001b[0m\u001b[0;34m\u001b[0m\u001b[0m\n\u001b[0;32m-> 2133\u001b[0;31m             \u001b[0;32mreturn\u001b[0m \u001b[0mself\u001b[0m\u001b[0;34m.\u001b[0m\u001b[0m_getitem_array\u001b[0m\u001b[0;34m(\u001b[0m\u001b[0mkey\u001b[0m\u001b[0;34m)\u001b[0m\u001b[0;34m\u001b[0m\u001b[0m\n\u001b[0m\u001b[1;32m   2134\u001b[0m         \u001b[0;32melif\u001b[0m \u001b[0misinstance\u001b[0m\u001b[0;34m(\u001b[0m\u001b[0mkey\u001b[0m\u001b[0;34m,\u001b[0m \u001b[0mDataFrame\u001b[0m\u001b[0;34m)\u001b[0m\u001b[0;34m:\u001b[0m\u001b[0;34m\u001b[0m\u001b[0m\n\u001b[1;32m   2135\u001b[0m             \u001b[0;32mreturn\u001b[0m \u001b[0mself\u001b[0m\u001b[0;34m.\u001b[0m\u001b[0m_getitem_frame\u001b[0m\u001b[0;34m(\u001b[0m\u001b[0mkey\u001b[0m\u001b[0;34m)\u001b[0m\u001b[0;34m\u001b[0m\u001b[0m\n",
      "\u001b[0;32m~/anaconda3/lib/python3.6/site-packages/pandas/core/frame.py\u001b[0m in \u001b[0;36m_getitem_array\u001b[0;34m(self, key)\u001b[0m\n\u001b[1;32m   2171\u001b[0m             \u001b[0;31m# check_bool_indexer will throw exception if Series key cannot\u001b[0m\u001b[0;34m\u001b[0m\u001b[0;34m\u001b[0m\u001b[0m\n\u001b[1;32m   2172\u001b[0m             \u001b[0;31m# be reindexed to match DataFrame rows\u001b[0m\u001b[0;34m\u001b[0m\u001b[0;34m\u001b[0m\u001b[0m\n\u001b[0;32m-> 2173\u001b[0;31m             \u001b[0mkey\u001b[0m \u001b[0;34m=\u001b[0m \u001b[0mcheck_bool_indexer\u001b[0m\u001b[0;34m(\u001b[0m\u001b[0mself\u001b[0m\u001b[0;34m.\u001b[0m\u001b[0mindex\u001b[0m\u001b[0;34m,\u001b[0m \u001b[0mkey\u001b[0m\u001b[0;34m)\u001b[0m\u001b[0;34m\u001b[0m\u001b[0m\n\u001b[0m\u001b[1;32m   2174\u001b[0m             \u001b[0mindexer\u001b[0m \u001b[0;34m=\u001b[0m \u001b[0mkey\u001b[0m\u001b[0;34m.\u001b[0m\u001b[0mnonzero\u001b[0m\u001b[0;34m(\u001b[0m\u001b[0;34m)\u001b[0m\u001b[0;34m[\u001b[0m\u001b[0;36m0\u001b[0m\u001b[0;34m]\u001b[0m\u001b[0;34m\u001b[0m\u001b[0m\n\u001b[1;32m   2175\u001b[0m             \u001b[0;32mreturn\u001b[0m \u001b[0mself\u001b[0m\u001b[0;34m.\u001b[0m\u001b[0m_take\u001b[0m\u001b[0;34m(\u001b[0m\u001b[0mindexer\u001b[0m\u001b[0;34m,\u001b[0m \u001b[0maxis\u001b[0m\u001b[0;34m=\u001b[0m\u001b[0;36m0\u001b[0m\u001b[0;34m,\u001b[0m \u001b[0mconvert\u001b[0m\u001b[0;34m=\u001b[0m\u001b[0;32mFalse\u001b[0m\u001b[0;34m)\u001b[0m\u001b[0;34m\u001b[0m\u001b[0m\n",
      "\u001b[0;32m~/anaconda3/lib/python3.6/site-packages/pandas/core/indexing.py\u001b[0m in \u001b[0;36mcheck_bool_indexer\u001b[0;34m(ax, key)\u001b[0m\n\u001b[1;32m   2021\u001b[0m         \u001b[0mmask\u001b[0m \u001b[0;34m=\u001b[0m \u001b[0misna\u001b[0m\u001b[0;34m(\u001b[0m\u001b[0mresult\u001b[0m\u001b[0;34m.\u001b[0m\u001b[0m_values\u001b[0m\u001b[0;34m)\u001b[0m\u001b[0;34m\u001b[0m\u001b[0m\n\u001b[1;32m   2022\u001b[0m         \u001b[0;32mif\u001b[0m \u001b[0mmask\u001b[0m\u001b[0;34m.\u001b[0m\u001b[0many\u001b[0m\u001b[0;34m(\u001b[0m\u001b[0;34m)\u001b[0m\u001b[0;34m:\u001b[0m\u001b[0;34m\u001b[0m\u001b[0m\n\u001b[0;32m-> 2023\u001b[0;31m             raise IndexingError('Unalignable boolean Series provided as '\n\u001b[0m\u001b[1;32m   2024\u001b[0m                                 \u001b[0;34m'indexer (index of the boolean Series and of '\u001b[0m\u001b[0;34m\u001b[0m\u001b[0m\n\u001b[1;32m   2025\u001b[0m                                 'the indexed object do not match')\n",
      "\u001b[0;31mIndexingError\u001b[0m: Unalignable boolean Series provided as indexer (index of the boolean Series and of the indexed object do not match"
     ]
    }
   ],
   "source": [
    "table_csv[table_csv[\"entry\"][:][:14] == 'rp.20180113.gz']"
   ]
  },
  {
   "cell_type": "code",
   "execution_count": 35,
   "metadata": {
    "hidden": true
   },
   "outputs": [
    {
     "data": {
      "text/plain": [
       "'rp.20180113.gz'"
      ]
     },
     "execution_count": 35,
     "metadata": {},
     "output_type": "execute_result"
    }
   ],
   "source": [
    "table_csv[\"entry\"][1][:14]"
   ]
  },
  {
   "cell_type": "code",
   "execution_count": 49,
   "metadata": {
    "hidden": true
   },
   "outputs": [
    {
     "data": {
      "text/plain": [
       "0    rp.20180113.gz:Jan 13 00:00:00 rp8 qmail: 1515...\n",
       "1    rp.20180113.gz:Jan 13 00:00:00 rp3 qmail: 1515...\n",
       "2    rp.20180113.gz:Jan 13 00:00:02 rp9 qmail: 1515...\n",
       "3    rp.20180113.gz:Jan 13 00:00:02 rp13 qmail: 151...\n",
       "4    rp.20180113.gz:Jan 13 00:00:03 rp1 qmail: 1515...\n",
       "Name: entry, dtype: object"
      ]
     },
     "execution_count": 49,
     "metadata": {},
     "output_type": "execute_result"
    }
   ],
   "source": [
    "table_csv[\"entry\"][:].head()"
   ]
  },
  {
   "cell_type": "code",
   "execution_count": 40,
   "metadata": {
    "hidden": true
   },
   "outputs": [
    {
     "data": {
      "text/html": [
       "<div>\n",
       "<style scoped>\n",
       "    .dataframe tbody tr th:only-of-type {\n",
       "        vertical-align: middle;\n",
       "    }\n",
       "\n",
       "    .dataframe tbody tr th {\n",
       "        vertical-align: top;\n",
       "    }\n",
       "\n",
       "    .dataframe thead th {\n",
       "        text-align: right;\n",
       "    }\n",
       "</style>\n",
       "<table border=\"1\" class=\"dataframe\">\n",
       "  <thead>\n",
       "    <tr style=\"text-align: right;\">\n",
       "      <th></th>\n",
       "      <th>entry</th>\n",
       "    </tr>\n",
       "  </thead>\n",
       "  <tbody>\n",
       "    <tr>\n",
       "      <th>0</th>\n",
       "      <td>rp.20180113.gz:Jan 13 00:00:00 rp8 qmail: 1515...</td>\n",
       "    </tr>\n",
       "    <tr>\n",
       "      <th>1</th>\n",
       "      <td>rp.20180113.gz:Jan 13 00:00:00 rp3 qmail: 1515...</td>\n",
       "    </tr>\n",
       "    <tr>\n",
       "      <th>2</th>\n",
       "      <td>rp.20180113.gz:Jan 13 00:00:02 rp9 qmail: 1515...</td>\n",
       "    </tr>\n",
       "    <tr>\n",
       "      <th>3</th>\n",
       "      <td>rp.20180113.gz:Jan 13 00:00:02 rp13 qmail: 151...</td>\n",
       "    </tr>\n",
       "    <tr>\n",
       "      <th>4</th>\n",
       "      <td>rp.20180113.gz:Jan 13 00:00:03 rp1 qmail: 1515...</td>\n",
       "    </tr>\n",
       "  </tbody>\n",
       "</table>\n",
       "</div>"
      ],
      "text/plain": [
       "                                               entry\n",
       "0  rp.20180113.gz:Jan 13 00:00:00 rp8 qmail: 1515...\n",
       "1  rp.20180113.gz:Jan 13 00:00:00 rp3 qmail: 1515...\n",
       "2  rp.20180113.gz:Jan 13 00:00:02 rp9 qmail: 1515...\n",
       "3  rp.20180113.gz:Jan 13 00:00:02 rp13 qmail: 151...\n",
       "4  rp.20180113.gz:Jan 13 00:00:03 rp1 qmail: 1515..."
      ]
     },
     "execution_count": 40,
     "metadata": {},
     "output_type": "execute_result"
    }
   ],
   "source": [
    "table_csv.head()"
   ]
  },
  {
   "cell_type": "code",
   "execution_count": 53,
   "metadata": {
    "hidden": true
   },
   "outputs": [
    {
     "data": {
      "text/html": [
       "<div>\n",
       "<style scoped>\n",
       "    .dataframe tbody tr th:only-of-type {\n",
       "        vertical-align: middle;\n",
       "    }\n",
       "\n",
       "    .dataframe tbody tr th {\n",
       "        vertical-align: top;\n",
       "    }\n",
       "\n",
       "    .dataframe thead th {\n",
       "        text-align: right;\n",
       "    }\n",
       "</style>\n",
       "<table border=\"1\" class=\"dataframe\">\n",
       "  <thead>\n",
       "    <tr style=\"text-align: right;\">\n",
       "      <th></th>\n",
       "      <th>file</th>\n",
       "      <th>date-hr-mn</th>\n",
       "      <th>type</th>\n",
       "      <th>id</th>\n",
       "      <th>mail_id</th>\n",
       "    </tr>\n",
       "  </thead>\n",
       "  <tbody>\n",
       "    <tr>\n",
       "      <th>0</th>\n",
       "      <td>rp.20180113.gz</td>\n",
       "      <td>Jan 13 00</td>\n",
       "      <td>0</td>\n",
       "      <td>00 rp8 qmail</td>\n",
       "      <td>1515781800.263068 new msg 130628</td>\n",
       "    </tr>\n",
       "    <tr>\n",
       "      <th>1</th>\n",
       "      <td>rp.20180113.gz</td>\n",
       "      <td>Jan 13 00</td>\n",
       "      <td>0</td>\n",
       "      <td>00 rp3 qmail</td>\n",
       "      <td>1515781800.271924 new msg 130614</td>\n",
       "    </tr>\n",
       "    <tr>\n",
       "      <th>2</th>\n",
       "      <td>rp.20180113.gz</td>\n",
       "      <td>Jan 13 00</td>\n",
       "      <td>0</td>\n",
       "      <td>02 rp9 qmail</td>\n",
       "      <td>1515781802.062483 new msg 130633</td>\n",
       "    </tr>\n",
       "    <tr>\n",
       "      <th>3</th>\n",
       "      <td>rp.20180113.gz</td>\n",
       "      <td>Jan 13 00</td>\n",
       "      <td>0</td>\n",
       "      <td>02 rp13 qmail</td>\n",
       "      <td>1515781802.063195 new msg 130604</td>\n",
       "    </tr>\n",
       "    <tr>\n",
       "      <th>4</th>\n",
       "      <td>rp.20180113.gz</td>\n",
       "      <td>Jan 13 00</td>\n",
       "      <td>0</td>\n",
       "      <td>03 rp1 qmail</td>\n",
       "      <td>1515781803.762277 new msg 130692</td>\n",
       "    </tr>\n",
       "  </tbody>\n",
       "</table>\n",
       "</div>"
      ],
      "text/plain": [
       "             file date-hr-mn  type             id  \\\n",
       "0  rp.20180113.gz  Jan 13 00     0   00 rp8 qmail   \n",
       "1  rp.20180113.gz  Jan 13 00     0   00 rp3 qmail   \n",
       "2  rp.20180113.gz  Jan 13 00     0   02 rp9 qmail   \n",
       "3  rp.20180113.gz  Jan 13 00     0  02 rp13 qmail   \n",
       "4  rp.20180113.gz  Jan 13 00     0   03 rp1 qmail   \n",
       "\n",
       "                             mail_id  \n",
       "0   1515781800.263068 new msg 130628  \n",
       "1   1515781800.271924 new msg 130614  \n",
       "2   1515781802.062483 new msg 130633  \n",
       "3   1515781802.063195 new msg 130604  \n",
       "4   1515781803.762277 new msg 130692  "
      ]
     },
     "execution_count": 53,
     "metadata": {},
     "output_type": "execute_result"
    }
   ],
   "source": [
    "table.head()"
   ]
  },
  {
   "cell_type": "code",
   "execution_count": 57,
   "metadata": {
    "collapsed": true,
    "hidden": true
   },
   "outputs": [],
   "source": [
    "table_13 = table[table[\"file\"] == 'rp.20180113.gz']"
   ]
  },
  {
   "cell_type": "code",
   "execution_count": 58,
   "metadata": {
    "hidden": true,
    "scrolled": true
   },
   "outputs": [
    {
     "data": {
      "text/plain": [
       "211316"
      ]
     },
     "execution_count": 58,
     "metadata": {},
     "output_type": "execute_result"
    }
   ],
   "source": [
    "len(table_13 )"
   ]
  },
  {
   "cell_type": "markdown",
   "metadata": {
    "hidden": true
   },
   "source": [
    "### Rough Work: Ends"
   ]
  },
  {
   "cell_type": "markdown",
   "metadata": {},
   "source": [
    "## Separating columns: based on space"
   ]
  },
  {
   "cell_type": "code",
   "execution_count": 3,
   "metadata": {},
   "outputs": [],
   "source": [
    "table_space = pd.read_csv('rp20180113_19.log',sep=\" \", names=[\"col1\", \"col2\", \"col3\",\"col4\", \"col5\", \"col6\",\"col7\", \"col8\", \"col9\"])"
   ]
  },
  {
   "cell_type": "code",
   "execution_count": 4,
   "metadata": {},
   "outputs": [
    {
     "data": {
      "text/plain": [
       "(                 col1  col2      col3  col4    col5          col6 col7 col8  \\\n",
       " 0  rp.20180113.gz:Jan    13  00:00:00   rp8  qmail:  1.515782e+09  new  msg   \n",
       " 1  rp.20180113.gz:Jan    13  00:00:00   rp3  qmail:  1.515782e+09  new  msg   \n",
       " 2  rp.20180113.gz:Jan    13  00:00:02   rp9  qmail:  1.515782e+09  new  msg   \n",
       " 3  rp.20180113.gz:Jan    13  00:00:02  rp13  qmail:  1.515782e+09  new  msg   \n",
       " 4  rp.20180113.gz:Jan    13  00:00:03   rp1  qmail:  1.515782e+09  new  msg   \n",
       " \n",
       "      col9  \n",
       " 0  130628  \n",
       " 1  130614  \n",
       " 2  130633  \n",
       " 3  130604  \n",
       " 4  130692  , 4085948)"
      ]
     },
     "execution_count": 4,
     "metadata": {},
     "output_type": "execute_result"
    }
   ],
   "source": [
    "table_space.head(), len(table_space)"
   ]
  },
  {
   "cell_type": "code",
   "execution_count": 5,
   "metadata": {
    "collapsed": true
   },
   "outputs": [],
   "source": [
    "table_space_13 = table_space[ table_space[\"col1\"] == 'rp.20180113.gz:Jan' ]"
   ]
  },
  {
   "cell_type": "code",
   "execution_count": 6,
   "metadata": {},
   "outputs": [
    {
     "data": {
      "text/plain": [
       "(                 col1  col2      col3  col4    col5          col6 col7 col8  \\\n",
       " 0  rp.20180113.gz:Jan    13  00:00:00   rp8  qmail:  1.515782e+09  new  msg   \n",
       " 1  rp.20180113.gz:Jan    13  00:00:00   rp3  qmail:  1.515782e+09  new  msg   \n",
       " 2  rp.20180113.gz:Jan    13  00:00:02   rp9  qmail:  1.515782e+09  new  msg   \n",
       " 3  rp.20180113.gz:Jan    13  00:00:02  rp13  qmail:  1.515782e+09  new  msg   \n",
       " 4  rp.20180113.gz:Jan    13  00:00:03   rp1  qmail:  1.515782e+09  new  msg   \n",
       " \n",
       "      col9  \n",
       " 0  130628  \n",
       " 1  130614  \n",
       " 2  130633  \n",
       " 3  130604  \n",
       " 4  130692  , 211316)"
      ]
     },
     "execution_count": 6,
     "metadata": {},
     "output_type": "execute_result"
    }
   ],
   "source": [
    "table_space_13.head(), len(table_space_13)"
   ]
  },
  {
   "cell_type": "code",
   "execution_count": 7,
   "metadata": {
    "collapsed": true
   },
   "outputs": [],
   "source": [
    "\"\"\"\n",
    "Ignore this: Start\n",
    "\"\"\""
   ]
  },
  {
   "cell_type": "code",
   "execution_count": 67,
   "metadata": {},
   "outputs": [
    {
     "data": {
      "text/html": [
       "<div>\n",
       "<style scoped>\n",
       "    .dataframe tbody tr th:only-of-type {\n",
       "        vertical-align: middle;\n",
       "    }\n",
       "\n",
       "    .dataframe tbody tr th {\n",
       "        vertical-align: top;\n",
       "    }\n",
       "\n",
       "    .dataframe thead th {\n",
       "        text-align: right;\n",
       "    }\n",
       "</style>\n",
       "<table border=\"1\" class=\"dataframe\">\n",
       "  <thead>\n",
       "    <tr style=\"text-align: right;\">\n",
       "      <th></th>\n",
       "      <th>col1</th>\n",
       "      <th>col2</th>\n",
       "      <th>col4</th>\n",
       "      <th>col5</th>\n",
       "      <th>col6</th>\n",
       "      <th>col7</th>\n",
       "      <th>col8</th>\n",
       "      <th>col9</th>\n",
       "    </tr>\n",
       "    <tr>\n",
       "      <th>col3</th>\n",
       "      <th></th>\n",
       "      <th></th>\n",
       "      <th></th>\n",
       "      <th></th>\n",
       "      <th></th>\n",
       "      <th></th>\n",
       "      <th></th>\n",
       "      <th></th>\n",
       "    </tr>\n",
       "  </thead>\n",
       "  <tbody>\n",
       "    <tr>\n",
       "      <th>00:00:00</th>\n",
       "      <td>rp.20180113.gz:Jan</td>\n",
       "      <td>13</td>\n",
       "      <td>rp8</td>\n",
       "      <td>qmail:</td>\n",
       "      <td>1.515782e+09</td>\n",
       "      <td>new</td>\n",
       "      <td>msg</td>\n",
       "      <td>130628</td>\n",
       "    </tr>\n",
       "    <tr>\n",
       "      <th>00:00:00</th>\n",
       "      <td>rp.20180113.gz:Jan</td>\n",
       "      <td>13</td>\n",
       "      <td>rp3</td>\n",
       "      <td>qmail:</td>\n",
       "      <td>1.515782e+09</td>\n",
       "      <td>new</td>\n",
       "      <td>msg</td>\n",
       "      <td>130614</td>\n",
       "    </tr>\n",
       "    <tr>\n",
       "      <th>00:00:02</th>\n",
       "      <td>rp.20180113.gz:Jan</td>\n",
       "      <td>13</td>\n",
       "      <td>rp9</td>\n",
       "      <td>qmail:</td>\n",
       "      <td>1.515782e+09</td>\n",
       "      <td>new</td>\n",
       "      <td>msg</td>\n",
       "      <td>130633</td>\n",
       "    </tr>\n",
       "    <tr>\n",
       "      <th>00:00:02</th>\n",
       "      <td>rp.20180113.gz:Jan</td>\n",
       "      <td>13</td>\n",
       "      <td>rp13</td>\n",
       "      <td>qmail:</td>\n",
       "      <td>1.515782e+09</td>\n",
       "      <td>new</td>\n",
       "      <td>msg</td>\n",
       "      <td>130604</td>\n",
       "    </tr>\n",
       "    <tr>\n",
       "      <th>00:00:03</th>\n",
       "      <td>rp.20180113.gz:Jan</td>\n",
       "      <td>13</td>\n",
       "      <td>rp1</td>\n",
       "      <td>qmail:</td>\n",
       "      <td>1.515782e+09</td>\n",
       "      <td>new</td>\n",
       "      <td>msg</td>\n",
       "      <td>130692</td>\n",
       "    </tr>\n",
       "  </tbody>\n",
       "</table>\n",
       "</div>"
      ],
      "text/plain": [
       "                        col1  col2  col4    col5          col6 col7 col8  \\\n",
       "col3                                                                       \n",
       "00:00:00  rp.20180113.gz:Jan    13   rp8  qmail:  1.515782e+09  new  msg   \n",
       "00:00:00  rp.20180113.gz:Jan    13   rp3  qmail:  1.515782e+09  new  msg   \n",
       "00:00:02  rp.20180113.gz:Jan    13   rp9  qmail:  1.515782e+09  new  msg   \n",
       "00:00:02  rp.20180113.gz:Jan    13  rp13  qmail:  1.515782e+09  new  msg   \n",
       "00:00:03  rp.20180113.gz:Jan    13   rp1  qmail:  1.515782e+09  new  msg   \n",
       "\n",
       "            col9  \n",
       "col3              \n",
       "00:00:00  130628  \n",
       "00:00:00  130614  \n",
       "00:00:02  130633  \n",
       "00:00:02  130604  \n",
       "00:00:03  130692  "
      ]
     },
     "execution_count": 67,
     "metadata": {},
     "output_type": "execute_result"
    }
   ],
   "source": [
    "df = table_space_13.set_index('col3')\n",
    "df.head()"
   ]
  },
  {
   "cell_type": "code",
   "execution_count": 68,
   "metadata": {},
   "outputs": [
    {
     "data": {
      "text/plain": [
       "<matplotlib.axes._subplots.AxesSubplot at 0x7fc234420128>"
      ]
     },
     "execution_count": 68,
     "metadata": {},
     "output_type": "execute_result"
    }
   ],
   "source": [
    "df.plot()"
   ]
  },
  {
   "cell_type": "code",
   "execution_count": 70,
   "metadata": {},
   "outputs": [
    {
     "data": {
      "text/plain": [
       "<matplotlib.figure.Figure at 0x7fc2818bf400>"
      ]
     },
     "execution_count": 70,
     "metadata": {},
     "output_type": "execute_result"
    }
   ],
   "source": [
    "plt.figure()"
   ]
  },
  {
   "cell_type": "code",
   "execution_count": 71,
   "metadata": {},
   "outputs": [
    {
     "data": {
      "text/plain": [
       "<matplotlib.axes._subplots.AxesSubplot at 0x7fc23495e240>"
      ]
     },
     "execution_count": 71,
     "metadata": {},
     "output_type": "execute_result"
    }
   ],
   "source": [
    "df.plot()"
   ]
  },
  {
   "cell_type": "code",
   "execution_count": 72,
   "metadata": {},
   "outputs": [
    {
     "data": {
      "image/png": "[encoded data removed]",
      "text/plain": [
       "<matplotlib.figure.Figure at 0x7fc2345129b0>"
      ]
     },
     "metadata": {},
     "output_type": "display_data"
    },
    {
     "data": {
      "text/plain": [
       "<matplotlib.figure.Figure at 0x7fc2818bf400>"
      ]
     },
     "metadata": {},
     "output_type": "display_data"
    },
    {
     "data": {
      "image/png": "[encoded data removed]",
      "text/plain": [
       "<matplotlib.figure.Figure at 0x7fc2d2088ba8>"
      ]
     },
     "metadata": {},
     "output_type": "display_data"
    }
   ],
   "source": [
    "plt.show()"
   ]
  },
  {
   "cell_type": "code",
   "execution_count": null,
   "metadata": {
    "collapsed": true
   },
   "outputs": [],
   "source": [
    "\"\"\"\n",
    "Ignore this: End\n",
    "\"\"\""
   ]
  },
  {
   "cell_type": "code",
   "execution_count": 8,
   "metadata": {},
   "outputs": [
    {
     "data": {
      "text/plain": [
       "(                      col1  col2      col3  col4    col5          col6 col7  \\\n",
       " 211316  rp.20180114.gz:Jan    14  00:00:00   rp1  qmail:  1.515868e+09  new   \n",
       " 211317  rp.20180114.gz:Jan    14  00:00:00  rp17  qmail:  1.515868e+09  new   \n",
       " 211318  rp.20180114.gz:Jan    14  00:00:00  rp17  qmail:  1.515868e+09  new   \n",
       " 211319  rp.20180114.gz:Jan    14  00:00:02   rp7  qmail:  1.515868e+09  new   \n",
       " 211320  rp.20180114.gz:Jan    14  00:00:02  rp13  qmail:  1.515868e+09  new   \n",
       " \n",
       "        col8    col9  \n",
       " 211316  msg  130689  \n",
       " 211317  msg  131032  \n",
       " 211318  msg  131035  \n",
       " 211319  msg  130604  \n",
       " 211320  msg  130604  , 569375)"
      ]
     },
     "execution_count": 8,
     "metadata": {},
     "output_type": "execute_result"
    }
   ],
   "source": [
    "table_space_14 = table_space[ table_space[\"col1\"] == 'rp.20180114.gz:Jan' ]\n",
    "table_space_14.head(), len(table_space_14)"
   ]
  },
  {
   "cell_type": "code",
   "execution_count": 9,
   "metadata": {},
   "outputs": [
    {
     "data": {
      "text/plain": [
       "(                      col1  col2      col3  col4    col5          col6 col7  \\\n",
       " 780691  rp.20180115.gz:Jan    14  23:59:59   rp9  qmail:  1.515955e+09  new   \n",
       " 780692  rp.20180115.gz:Jan    15  00:00:00  rp13  qmail:  1.515955e+09  new   \n",
       " 780693  rp.20180115.gz:Jan    15  00:00:00   rp1  qmail:  1.515955e+09  new   \n",
       " 780694  rp.20180115.gz:Jan    15  00:00:00  rp13  qmail:  1.515955e+09  new   \n",
       " 780695  rp.20180115.gz:Jan    15  00:00:00   rp7  qmail:  1.515955e+09  new   \n",
       " \n",
       "        col8    col9  \n",
       " 780691  msg  130605  \n",
       " 780692  msg  130604  \n",
       " 780693  msg  130689  \n",
       " 780694  msg  130604  \n",
       " 780695  msg  130604  , 1314418)"
      ]
     },
     "execution_count": 9,
     "metadata": {},
     "output_type": "execute_result"
    }
   ],
   "source": [
    "table_space_15 = table_space[ table_space[\"col1\"] == 'rp.20180115.gz:Jan' ]\n",
    "table_space_15.head(), len(table_space_15)"
   ]
  },
  {
   "cell_type": "code",
   "execution_count": 10,
   "metadata": {},
   "outputs": [
    {
     "data": {
      "text/plain": [
       "(                       col1  col2      col3  col4    col5          col6 col7  \\\n",
       " 2095109  rp.20180116.gz:Jan    16  00:00:01   rp9  qmail:  1.516041e+09  new   \n",
       " 2095110  rp.20180116.gz:Jan    16  00:00:01  rp13  qmail:  1.516041e+09  new   \n",
       " 2095111  rp.20180116.gz:Jan    16  00:00:02   rp1  qmail:  1.516041e+09  new   \n",
       " 2095112  rp.20180116.gz:Jan    16  00:00:02   rp2  qmail:  1.516041e+09  new   \n",
       " 2095113  rp.20180116.gz:Jan    16  00:00:02   rp2  qmail:  1.516041e+09  new   \n",
       " \n",
       "         col8    col9  \n",
       " 2095109  msg  130606  \n",
       " 2095110  msg  130604  \n",
       " 2095111  msg  130705  \n",
       " 2095112  msg  130618  \n",
       " 2095113  msg  130637  , 596647)"
      ]
     },
     "execution_count": 10,
     "metadata": {},
     "output_type": "execute_result"
    }
   ],
   "source": [
    "table_space_16 = table_space[ table_space[\"col1\"] == 'rp.20180116.gz:Jan' ]\n",
    "table_space_16.head(), len(table_space_16)"
   ]
  },
  {
   "cell_type": "code",
   "execution_count": 11,
   "metadata": {},
   "outputs": [
    {
     "data": {
      "text/plain": [
       "(                       col1  col2      col3  col4    col5          col6 col7  \\\n",
       " 2691756  rp.20180117.gz:Jan    17  00:00:01   rp6  qmail:  1.516127e+09  new   \n",
       " 2691757  rp.20180117.gz:Jan    17  00:00:01  rp13  qmail:  1.516127e+09  new   \n",
       " 2691758  rp.20180117.gz:Jan    17  00:00:02   rp8  qmail:  1.516127e+09  new   \n",
       " 2691759  rp.20180117.gz:Jan    17  00:00:02   rp3  qmail:  1.516127e+09  new   \n",
       " 2691760  rp.20180117.gz:Jan    17  00:00:05   rp1  qmail:  1.516127e+09  new   \n",
       " \n",
       "         col8    col9  \n",
       " 2691756  msg  130611  \n",
       " 2691757  msg  130604  \n",
       " 2691758  msg  130606  \n",
       " 2691759  msg  130661  \n",
       " 2691760  msg  130705  , 446927)"
      ]
     },
     "execution_count": 11,
     "metadata": {},
     "output_type": "execute_result"
    }
   ],
   "source": [
    "table_space_17 = table_space[ table_space[\"col1\"] == 'rp.20180117.gz:Jan' ]\n",
    "table_space_17.head(), len(table_space_17)"
   ]
  },
  {
   "cell_type": "code",
   "execution_count": 12,
   "metadata": {},
   "outputs": [
    {
     "data": {
      "text/plain": [
       "(                       col1  col2      col3  col4    col5          col6 col7  \\\n",
       " 3138683  rp.20180118.gz:Jan    18  00:00:00   rp8  qmail:  1.516214e+09  new   \n",
       " 3138684  rp.20180118.gz:Jan    18  00:00:00  rp19  qmail:  1.516214e+09  new   \n",
       " 3138685  rp.20180118.gz:Jan    18  00:00:00  rp19  qmail:  1.516214e+09  new   \n",
       " 3138686  rp.20180118.gz:Jan    18  00:00:01   rp1  qmail:  1.516214e+09  new   \n",
       " 3138687  rp.20180118.gz:Jan    18  00:00:01  rp13  qmail:  1.516214e+09  new   \n",
       " \n",
       "         col8    col9  \n",
       " 3138683  msg  130606  \n",
       " 3138684  msg  130604  \n",
       " 3138685  msg  130607  \n",
       " 3138686  msg  130705  \n",
       " 3138687  msg  130604  , 519201)"
      ]
     },
     "execution_count": 12,
     "metadata": {},
     "output_type": "execute_result"
    }
   ],
   "source": [
    "table_space_18 = table_space[ table_space[\"col1\"] == 'rp.20180118.gz:Jan' ]\n",
    "table_space_18.head(), len(table_space_18)"
   ]
  },
  {
   "cell_type": "code",
   "execution_count": 13,
   "metadata": {},
   "outputs": [
    {
     "data": {
      "text/plain": [
       "(                       col1  col2      col3  col4    col5          col6 col7  \\\n",
       " 3657884  rp.20180119.gz:Jan    19  00:00:00   rp2  qmail:  1.516300e+09  new   \n",
       " 3657885  rp.20180119.gz:Jan    19  00:00:00   rp3  qmail:  1.516300e+09  new   \n",
       " 3657886  rp.20180119.gz:Jan    19  00:00:01   rp9  qmail:  1.516300e+09  new   \n",
       " 3657887  rp.20180119.gz:Jan    19  00:00:01  rp13  qmail:  1.516300e+09  new   \n",
       " 3657888  rp.20180119.gz:Jan    19  00:00:01   rp7  qmail:  1.516300e+09  new   \n",
       " \n",
       "         col8    col9  \n",
       " 3657884  msg  130621  \n",
       " 3657885  msg  130661  \n",
       " 3657886  msg  130611  \n",
       " 3657887  msg  130604  \n",
       " 3657888  msg  130634  , 428064)"
      ]
     },
     "execution_count": 13,
     "metadata": {},
     "output_type": "execute_result"
    }
   ],
   "source": [
    "table_space_19 = table_space[ table_space[\"col1\"] == 'rp.20180119.gz:Jan' ]\n",
    "table_space_19.head(), len(table_space_19)"
   ]
  },
  {
   "cell_type": "markdown",
   "metadata": {},
   "source": [
    "## Visualizing"
   ]
  },
  {
   "cell_type": "markdown",
   "metadata": {},
   "source": [
    "Plotting for Jan 15 (Monday)"
   ]
  },
  {
   "cell_type": "markdown",
   "metadata": {
    "heading_collapsed": true
   },
   "source": [
    "### Visualization: Rough work"
   ]
  },
  {
   "cell_type": "code",
   "execution_count": 17,
   "metadata": {
    "hidden": true
   },
   "outputs": [
    {
     "data": {
      "text/plain": [
       "(780691    23:59:59\n",
       " 780692    00:00:00\n",
       " 780693    00:00:00\n",
       " 780694    00:00:00\n",
       " 780695    00:00:00\n",
       " Name: col3, dtype: object, 1314418, pandas.core.series.Series)"
      ]
     },
     "execution_count": 17,
     "metadata": {},
     "output_type": "execute_result"
    }
   ],
   "source": [
    "df = table_space_15[\"col3\"]\n",
    "df.head(), len(df), type(df)"
   ]
  },
  {
   "cell_type": "code",
   "execution_count": 22,
   "metadata": {
    "hidden": true
   },
   "outputs": [
    {
     "data": {
      "text/plain": [
       "(780691   2018-02-06 23:59:59\n",
       " 780692   2018-02-06 00:00:00\n",
       " 780693   2018-02-06 00:00:00\n",
       " 780694   2018-02-06 00:00:00\n",
       " 780695   2018-02-06 00:00:00\n",
       " Name: col3, dtype: datetime64[ns], 10000)"
      ]
     },
     "execution_count": 22,
     "metadata": {},
     "output_type": "execute_result"
    }
   ],
   "source": [
    "rough = table_space_15[\"col3\"][:10000]\n",
    "rough.head(), len(rough)"
   ]
  },
  {
   "cell_type": "code",
   "execution_count": 24,
   "metadata": {
    "hidden": true
   },
   "outputs": [
    {
     "data": {
      "text/html": [
       "<div>\n",
       "<style scoped>\n",
       "    .dataframe tbody tr th:only-of-type {\n",
       "        vertical-align: middle;\n",
       "    }\n",
       "\n",
       "    .dataframe tbody tr th {\n",
       "        vertical-align: top;\n",
       "    }\n",
       "\n",
       "    .dataframe thead th {\n",
       "        text-align: right;\n",
       "    }\n",
       "</style>\n",
       "<table border=\"1\" class=\"dataframe\">\n",
       "  <thead>\n",
       "    <tr style=\"text-align: right;\">\n",
       "      <th></th>\n",
       "      <th>col1</th>\n",
       "      <th>col2</th>\n",
       "      <th>col3</th>\n",
       "      <th>col4</th>\n",
       "      <th>col5</th>\n",
       "      <th>col6</th>\n",
       "      <th>col7</th>\n",
       "      <th>col8</th>\n",
       "      <th>col9</th>\n",
       "    </tr>\n",
       "  </thead>\n",
       "  <tbody>\n",
       "    <tr>\n",
       "      <th>780691</th>\n",
       "      <td>rp.20180115.gz:Jan</td>\n",
       "      <td>14</td>\n",
       "      <td>2018-02-06 23:59:59</td>\n",
       "      <td>rp9</td>\n",
       "      <td>qmail:</td>\n",
       "      <td>1.515955e+09</td>\n",
       "      <td>new</td>\n",
       "      <td>msg</td>\n",
       "      <td>130605</td>\n",
       "    </tr>\n",
       "    <tr>\n",
       "      <th>780692</th>\n",
       "      <td>rp.20180115.gz:Jan</td>\n",
       "      <td>15</td>\n",
       "      <td>2018-02-06 00:00:00</td>\n",
       "      <td>rp13</td>\n",
       "      <td>qmail:</td>\n",
       "      <td>1.515955e+09</td>\n",
       "      <td>new</td>\n",
       "      <td>msg</td>\n",
       "      <td>130604</td>\n",
       "    </tr>\n",
       "    <tr>\n",
       "      <th>780693</th>\n",
       "      <td>rp.20180115.gz:Jan</td>\n",
       "      <td>15</td>\n",
       "      <td>2018-02-06 00:00:00</td>\n",
       "      <td>rp1</td>\n",
       "      <td>qmail:</td>\n",
       "      <td>1.515955e+09</td>\n",
       "      <td>new</td>\n",
       "      <td>msg</td>\n",
       "      <td>130689</td>\n",
       "    </tr>\n",
       "    <tr>\n",
       "      <th>780694</th>\n",
       "      <td>rp.20180115.gz:Jan</td>\n",
       "      <td>15</td>\n",
       "      <td>2018-02-06 00:00:00</td>\n",
       "      <td>rp13</td>\n",
       "      <td>qmail:</td>\n",
       "      <td>1.515955e+09</td>\n",
       "      <td>new</td>\n",
       "      <td>msg</td>\n",
       "      <td>130604</td>\n",
       "    </tr>\n",
       "    <tr>\n",
       "      <th>780695</th>\n",
       "      <td>rp.20180115.gz:Jan</td>\n",
       "      <td>15</td>\n",
       "      <td>2018-02-06 00:00:00</td>\n",
       "      <td>rp7</td>\n",
       "      <td>qmail:</td>\n",
       "      <td>1.515955e+09</td>\n",
       "      <td>new</td>\n",
       "      <td>msg</td>\n",
       "      <td>130604</td>\n",
       "    </tr>\n",
       "  </tbody>\n",
       "</table>\n",
       "</div>"
      ],
      "text/plain": [
       "                      col1  col2                col3  col4    col5  \\\n",
       "780691  rp.20180115.gz:Jan    14 2018-02-06 23:59:59   rp9  qmail:   \n",
       "780692  rp.20180115.gz:Jan    15 2018-02-06 00:00:00  rp13  qmail:   \n",
       "780693  rp.20180115.gz:Jan    15 2018-02-06 00:00:00   rp1  qmail:   \n",
       "780694  rp.20180115.gz:Jan    15 2018-02-06 00:00:00  rp13  qmail:   \n",
       "780695  rp.20180115.gz:Jan    15 2018-02-06 00:00:00   rp7  qmail:   \n",
       "\n",
       "                col6 col7 col8    col9  \n",
       "780691  1.515955e+09  new  msg  130605  \n",
       "780692  1.515955e+09  new  msg  130604  \n",
       "780693  1.515955e+09  new  msg  130689  \n",
       "780694  1.515955e+09  new  msg  130604  \n",
       "780695  1.515955e+09  new  msg  130604  "
      ]
     },
     "execution_count": 24,
     "metadata": {},
     "output_type": "execute_result"
    }
   ],
   "source": [
    "table_space_15.head()"
   ]
  },
  {
   "cell_type": "code",
   "execution_count": 26,
   "metadata": {
    "hidden": true
   },
   "outputs": [
    {
     "data": {
      "text/plain": [
       "1314418"
      ]
     },
     "execution_count": 26,
     "metadata": {},
     "output_type": "execute_result"
    }
   ],
   "source": [
    "len(table_space_15)"
   ]
  },
  {
   "cell_type": "code",
   "execution_count": 31,
   "metadata": {
    "collapsed": true,
    "hidden": true
   },
   "outputs": [],
   "source": [
    "table_space_15."
   ]
  },
  {
   "cell_type": "code",
   "execution_count": 32,
   "metadata": {
    "hidden": true
   },
   "outputs": [
    {
     "data": {
      "text/html": [
       "<div>\n",
       "<style scoped>\n",
       "    .dataframe tbody tr th:only-of-type {\n",
       "        vertical-align: middle;\n",
       "    }\n",
       "\n",
       "    .dataframe tbody tr th {\n",
       "        vertical-align: top;\n",
       "    }\n",
       "\n",
       "    .dataframe thead th {\n",
       "        text-align: right;\n",
       "    }\n",
       "</style>\n",
       "<table border=\"1\" class=\"dataframe\">\n",
       "  <thead>\n",
       "    <tr style=\"text-align: right;\">\n",
       "      <th></th>\n",
       "      <th>col1</th>\n",
       "      <th>col2</th>\n",
       "      <th>col3</th>\n",
       "      <th>col4</th>\n",
       "      <th>col5</th>\n",
       "      <th>col6</th>\n",
       "      <th>col7</th>\n",
       "      <th>col8</th>\n",
       "      <th>col9</th>\n",
       "    </tr>\n",
       "  </thead>\n",
       "  <tbody>\n",
       "    <tr>\n",
       "      <th>780691</th>\n",
       "      <td>rp.20180115.gz:Jan</td>\n",
       "      <td>14</td>\n",
       "      <td>2018-02-06 23:59:59</td>\n",
       "      <td>rp9</td>\n",
       "      <td>qmail:</td>\n",
       "      <td>1.515955e+09</td>\n",
       "      <td>new</td>\n",
       "      <td>msg</td>\n",
       "      <td>130605</td>\n",
       "    </tr>\n",
       "    <tr>\n",
       "      <th>780692</th>\n",
       "      <td>rp.20180115.gz:Jan</td>\n",
       "      <td>15</td>\n",
       "      <td>2018-02-06 00:00:00</td>\n",
       "      <td>rp13</td>\n",
       "      <td>qmail:</td>\n",
       "      <td>1.515955e+09</td>\n",
       "      <td>new</td>\n",
       "      <td>msg</td>\n",
       "      <td>130604</td>\n",
       "    </tr>\n",
       "    <tr>\n",
       "      <th>780693</th>\n",
       "      <td>rp.20180115.gz:Jan</td>\n",
       "      <td>15</td>\n",
       "      <td>2018-02-06 00:00:00</td>\n",
       "      <td>rp1</td>\n",
       "      <td>qmail:</td>\n",
       "      <td>1.515955e+09</td>\n",
       "      <td>new</td>\n",
       "      <td>msg</td>\n",
       "      <td>130689</td>\n",
       "    </tr>\n",
       "    <tr>\n",
       "      <th>780694</th>\n",
       "      <td>rp.20180115.gz:Jan</td>\n",
       "      <td>15</td>\n",
       "      <td>2018-02-06 00:00:00</td>\n",
       "      <td>rp13</td>\n",
       "      <td>qmail:</td>\n",
       "      <td>1.515955e+09</td>\n",
       "      <td>new</td>\n",
       "      <td>msg</td>\n",
       "      <td>130604</td>\n",
       "    </tr>\n",
       "    <tr>\n",
       "      <th>780695</th>\n",
       "      <td>rp.20180115.gz:Jan</td>\n",
       "      <td>15</td>\n",
       "      <td>2018-02-06 00:00:00</td>\n",
       "      <td>rp7</td>\n",
       "      <td>qmail:</td>\n",
       "      <td>1.515955e+09</td>\n",
       "      <td>new</td>\n",
       "      <td>msg</td>\n",
       "      <td>130604</td>\n",
       "    </tr>\n",
       "  </tbody>\n",
       "</table>\n",
       "</div>"
      ],
      "text/plain": [
       "                      col1  col2                col3  col4    col5  \\\n",
       "780691  rp.20180115.gz:Jan    14 2018-02-06 23:59:59   rp9  qmail:   \n",
       "780692  rp.20180115.gz:Jan    15 2018-02-06 00:00:00  rp13  qmail:   \n",
       "780693  rp.20180115.gz:Jan    15 2018-02-06 00:00:00   rp1  qmail:   \n",
       "780694  rp.20180115.gz:Jan    15 2018-02-06 00:00:00  rp13  qmail:   \n",
       "780695  rp.20180115.gz:Jan    15 2018-02-06 00:00:00   rp7  qmail:   \n",
       "\n",
       "                col6 col7 col8    col9  \n",
       "780691  1.515955e+09  new  msg  130605  \n",
       "780692  1.515955e+09  new  msg  130604  \n",
       "780693  1.515955e+09  new  msg  130689  \n",
       "780694  1.515955e+09  new  msg  130604  \n",
       "780695  1.515955e+09  new  msg  130604  "
      ]
     },
     "execution_count": 32,
     "metadata": {},
     "output_type": "execute_result"
    }
   ],
   "source": [
    "df.head()"
   ]
  },
  {
   "cell_type": "code",
   "execution_count": 33,
   "metadata": {
    "collapsed": true,
    "hidden": true
   },
   "outputs": [],
   "source": [
    "df.set_index('col3', inplace=True)"
   ]
  },
  {
   "cell_type": "code",
   "execution_count": 34,
   "metadata": {
    "hidden": true
   },
   "outputs": [
    {
     "data": {
      "text/html": [
       "<div>\n",
       "<style scoped>\n",
       "    .dataframe tbody tr th:only-of-type {\n",
       "        vertical-align: middle;\n",
       "    }\n",
       "\n",
       "    .dataframe tbody tr th {\n",
       "        vertical-align: top;\n",
       "    }\n",
       "\n",
       "    .dataframe thead th {\n",
       "        text-align: right;\n",
       "    }\n",
       "</style>\n",
       "<table border=\"1\" class=\"dataframe\">\n",
       "  <thead>\n",
       "    <tr style=\"text-align: right;\">\n",
       "      <th></th>\n",
       "      <th>col1</th>\n",
       "      <th>col2</th>\n",
       "      <th>col4</th>\n",
       "      <th>col5</th>\n",
       "      <th>col6</th>\n",
       "      <th>col7</th>\n",
       "      <th>col8</th>\n",
       "      <th>col9</th>\n",
       "    </tr>\n",
       "    <tr>\n",
       "      <th>col3</th>\n",
       "      <th></th>\n",
       "      <th></th>\n",
       "      <th></th>\n",
       "      <th></th>\n",
       "      <th></th>\n",
       "      <th></th>\n",
       "      <th></th>\n",
       "      <th></th>\n",
       "    </tr>\n",
       "  </thead>\n",
       "  <tbody>\n",
       "    <tr>\n",
       "      <th>2018-02-06 23:59:59</th>\n",
       "      <td>rp.20180115.gz:Jan</td>\n",
       "      <td>14</td>\n",
       "      <td>rp9</td>\n",
       "      <td>qmail:</td>\n",
       "      <td>1.515955e+09</td>\n",
       "      <td>new</td>\n",
       "      <td>msg</td>\n",
       "      <td>130605</td>\n",
       "    </tr>\n",
       "    <tr>\n",
       "      <th>2018-02-06 00:00:00</th>\n",
       "      <td>rp.20180115.gz:Jan</td>\n",
       "      <td>15</td>\n",
       "      <td>rp13</td>\n",
       "      <td>qmail:</td>\n",
       "      <td>1.515955e+09</td>\n",
       "      <td>new</td>\n",
       "      <td>msg</td>\n",
       "      <td>130604</td>\n",
       "    </tr>\n",
       "    <tr>\n",
       "      <th>2018-02-06 00:00:00</th>\n",
       "      <td>rp.20180115.gz:Jan</td>\n",
       "      <td>15</td>\n",
       "      <td>rp1</td>\n",
       "      <td>qmail:</td>\n",
       "      <td>1.515955e+09</td>\n",
       "      <td>new</td>\n",
       "      <td>msg</td>\n",
       "      <td>130689</td>\n",
       "    </tr>\n",
       "    <tr>\n",
       "      <th>2018-02-06 00:00:00</th>\n",
       "      <td>rp.20180115.gz:Jan</td>\n",
       "      <td>15</td>\n",
       "      <td>rp13</td>\n",
       "      <td>qmail:</td>\n",
       "      <td>1.515955e+09</td>\n",
       "      <td>new</td>\n",
       "      <td>msg</td>\n",
       "      <td>130604</td>\n",
       "    </tr>\n",
       "    <tr>\n",
       "      <th>2018-02-06 00:00:00</th>\n",
       "      <td>rp.20180115.gz:Jan</td>\n",
       "      <td>15</td>\n",
       "      <td>rp7</td>\n",
       "      <td>qmail:</td>\n",
       "      <td>1.515955e+09</td>\n",
       "      <td>new</td>\n",
       "      <td>msg</td>\n",
       "      <td>130604</td>\n",
       "    </tr>\n",
       "  </tbody>\n",
       "</table>\n",
       "</div>"
      ],
      "text/plain": [
       "                                   col1  col2  col4    col5          col6  \\\n",
       "col3                                                                        \n",
       "2018-02-06 23:59:59  rp.20180115.gz:Jan    14   rp9  qmail:  1.515955e+09   \n",
       "2018-02-06 00:00:00  rp.20180115.gz:Jan    15  rp13  qmail:  1.515955e+09   \n",
       "2018-02-06 00:00:00  rp.20180115.gz:Jan    15   rp1  qmail:  1.515955e+09   \n",
       "2018-02-06 00:00:00  rp.20180115.gz:Jan    15  rp13  qmail:  1.515955e+09   \n",
       "2018-02-06 00:00:00  rp.20180115.gz:Jan    15   rp7  qmail:  1.515955e+09   \n",
       "\n",
       "                    col7 col8    col9  \n",
       "col3                                   \n",
       "2018-02-06 23:59:59  new  msg  130605  \n",
       "2018-02-06 00:00:00  new  msg  130604  \n",
       "2018-02-06 00:00:00  new  msg  130689  \n",
       "2018-02-06 00:00:00  new  msg  130604  \n",
       "2018-02-06 00:00:00  new  msg  130604  "
      ]
     },
     "execution_count": 34,
     "metadata": {},
     "output_type": "execute_result"
    }
   ],
   "source": [
    "df.head()"
   ]
  },
  {
   "cell_type": "code",
   "execution_count": 35,
   "metadata": {
    "hidden": true
   },
   "outputs": [
    {
     "data": {
      "text/plain": [
       "<matplotlib.axes._subplots.AxesSubplot at 0x7f25ff0f5860>"
      ]
     },
     "execution_count": 35,
     "metadata": {},
     "output_type": "execute_result"
    }
   ],
   "source": [
    "df.plot()"
   ]
  },
  {
   "cell_type": "code",
   "execution_count": 36,
   "metadata": {
    "hidden": true
   },
   "outputs": [
    {
     "data": {
      "image/png": "[encoded data removed]",
      "text/plain": [
       "<matplotlib.figure.Figure at 0x7f25ff0f5128>"
      ]
     },
     "metadata": {},
     "output_type": "display_data"
    }
   ],
   "source": [
    "plt.show()"
   ]
  },
  {
   "cell_type": "code",
   "execution_count": 37,
   "metadata": {
    "hidden": true
   },
   "outputs": [
    {
     "data": {
      "text/html": [
       "<div>\n",
       "<style scoped>\n",
       "    .dataframe tbody tr th:only-of-type {\n",
       "        vertical-align: middle;\n",
       "    }\n",
       "\n",
       "    .dataframe tbody tr th {\n",
       "        vertical-align: top;\n",
       "    }\n",
       "\n",
       "    .dataframe thead th {\n",
       "        text-align: right;\n",
       "    }\n",
       "</style>\n",
       "<table border=\"1\" class=\"dataframe\">\n",
       "  <thead>\n",
       "    <tr style=\"text-align: right;\">\n",
       "      <th></th>\n",
       "      <th>col1</th>\n",
       "      <th>col2</th>\n",
       "      <th>col4</th>\n",
       "      <th>col5</th>\n",
       "      <th>col6</th>\n",
       "      <th>col7</th>\n",
       "      <th>col8</th>\n",
       "      <th>col9</th>\n",
       "    </tr>\n",
       "    <tr>\n",
       "      <th>col3</th>\n",
       "      <th></th>\n",
       "      <th></th>\n",
       "      <th></th>\n",
       "      <th></th>\n",
       "      <th></th>\n",
       "      <th></th>\n",
       "      <th></th>\n",
       "      <th></th>\n",
       "    </tr>\n",
       "  </thead>\n",
       "  <tbody>\n",
       "    <tr>\n",
       "      <th>2018-02-06 23:59:59</th>\n",
       "      <td>rp.20180115.gz:Jan</td>\n",
       "      <td>14</td>\n",
       "      <td>rp9</td>\n",
       "      <td>qmail:</td>\n",
       "      <td>1.515955e+09</td>\n",
       "      <td>new</td>\n",
       "      <td>msg</td>\n",
       "      <td>130605</td>\n",
       "    </tr>\n",
       "    <tr>\n",
       "      <th>2018-02-06 00:00:00</th>\n",
       "      <td>rp.20180115.gz:Jan</td>\n",
       "      <td>15</td>\n",
       "      <td>rp13</td>\n",
       "      <td>qmail:</td>\n",
       "      <td>1.515955e+09</td>\n",
       "      <td>new</td>\n",
       "      <td>msg</td>\n",
       "      <td>130604</td>\n",
       "    </tr>\n",
       "    <tr>\n",
       "      <th>2018-02-06 00:00:00</th>\n",
       "      <td>rp.20180115.gz:Jan</td>\n",
       "      <td>15</td>\n",
       "      <td>rp1</td>\n",
       "      <td>qmail:</td>\n",
       "      <td>1.515955e+09</td>\n",
       "      <td>new</td>\n",
       "      <td>msg</td>\n",
       "      <td>130689</td>\n",
       "    </tr>\n",
       "    <tr>\n",
       "      <th>2018-02-06 00:00:00</th>\n",
       "      <td>rp.20180115.gz:Jan</td>\n",
       "      <td>15</td>\n",
       "      <td>rp13</td>\n",
       "      <td>qmail:</td>\n",
       "      <td>1.515955e+09</td>\n",
       "      <td>new</td>\n",
       "      <td>msg</td>\n",
       "      <td>130604</td>\n",
       "    </tr>\n",
       "    <tr>\n",
       "      <th>2018-02-06 00:00:00</th>\n",
       "      <td>rp.20180115.gz:Jan</td>\n",
       "      <td>15</td>\n",
       "      <td>rp7</td>\n",
       "      <td>qmail:</td>\n",
       "      <td>1.515955e+09</td>\n",
       "      <td>new</td>\n",
       "      <td>msg</td>\n",
       "      <td>130604</td>\n",
       "    </tr>\n",
       "  </tbody>\n",
       "</table>\n",
       "</div>"
      ],
      "text/plain": [
       "                                   col1  col2  col4    col5          col6  \\\n",
       "col3                                                                        \n",
       "2018-02-06 23:59:59  rp.20180115.gz:Jan    14   rp9  qmail:  1.515955e+09   \n",
       "2018-02-06 00:00:00  rp.20180115.gz:Jan    15  rp13  qmail:  1.515955e+09   \n",
       "2018-02-06 00:00:00  rp.20180115.gz:Jan    15   rp1  qmail:  1.515955e+09   \n",
       "2018-02-06 00:00:00  rp.20180115.gz:Jan    15  rp13  qmail:  1.515955e+09   \n",
       "2018-02-06 00:00:00  rp.20180115.gz:Jan    15   rp7  qmail:  1.515955e+09   \n",
       "\n",
       "                    col7 col8    col9  \n",
       "col3                                   \n",
       "2018-02-06 23:59:59  new  msg  130605  \n",
       "2018-02-06 00:00:00  new  msg  130604  \n",
       "2018-02-06 00:00:00  new  msg  130689  \n",
       "2018-02-06 00:00:00  new  msg  130604  \n",
       "2018-02-06 00:00:00  new  msg  130604  "
      ]
     },
     "execution_count": 37,
     "metadata": {},
     "output_type": "execute_result"
    }
   ],
   "source": [
    "df.head()"
   ]
  },
  {
   "cell_type": "code",
   "execution_count": 38,
   "metadata": {
    "collapsed": true,
    "hidden": true
   },
   "outputs": [],
   "source": [
    "df_new = df.groupby(\"col3\")"
   ]
  },
  {
   "cell_type": "code",
   "execution_count": 40,
   "metadata": {
    "hidden": true
   },
   "outputs": [
    {
     "data": {
      "text/plain": [
       "(                                   col1  col2  col4    col5          col6  \\\n",
       " col3                                                                        \n",
       " 2018-02-06 23:59:59  rp.20180115.gz:Jan    14   rp9  qmail:  1.515955e+09   \n",
       " 2018-02-06 00:00:00  rp.20180115.gz:Jan    15  rp13  qmail:  1.515955e+09   \n",
       " 2018-02-06 00:00:00  rp.20180115.gz:Jan    15   rp1  qmail:  1.515955e+09   \n",
       " 2018-02-06 00:00:00  rp.20180115.gz:Jan    15  rp13  qmail:  1.515955e+09   \n",
       " 2018-02-06 00:00:00  rp.20180115.gz:Jan    15   rp7  qmail:  1.515955e+09   \n",
       " 2018-02-06 00:00:00  rp.20180115.gz:Jan    15  rp20  qmail:  1.515955e+09   \n",
       " 2018-02-06 00:00:01  rp.20180115.gz:Jan    15  rp13  qmail:  1.515955e+09   \n",
       " 2018-02-06 00:00:01  rp.20180115.gz:Jan    15   rp2  qmail:  1.515955e+09   \n",
       " 2018-02-06 00:00:01  rp.20180115.gz:Jan    15  rp13  qmail:  1.515955e+09   \n",
       " 2018-02-06 00:00:01  rp.20180115.gz:Jan    15   rp5  qmail:  1.515955e+09   \n",
       " 2018-02-06 00:00:01  rp.20180115.gz:Jan    15  rp13  qmail:  1.515955e+09   \n",
       " 2018-02-06 00:00:02  rp.20180115.gz:Jan    15   rp2  qmail:  1.515955e+09   \n",
       " 2018-02-06 00:00:02  rp.20180115.gz:Jan    15  rp13  qmail:  1.515955e+09   \n",
       " 2018-02-06 00:00:02  rp.20180115.gz:Jan    15   rp5  qmail:  1.515955e+09   \n",
       " 2018-02-06 00:00:02  rp.20180115.gz:Jan    15  rp13  qmail:  1.515955e+09   \n",
       " 2018-02-06 00:00:02  rp.20180115.gz:Jan    15   rp6  qmail:  1.515955e+09   \n",
       " 2018-02-06 00:00:03  rp.20180115.gz:Jan    15   rp7  qmail:  1.515955e+09   \n",
       " 2018-02-06 00:00:03  rp.20180115.gz:Jan    15  rp13  qmail:  1.515955e+09   \n",
       " 2018-02-06 00:00:03  rp.20180115.gz:Jan    15  rp20  qmail:  1.515955e+09   \n",
       " 2018-02-06 00:00:03  rp.20180115.gz:Jan    15  rp13  qmail:  1.515955e+09   \n",
       " 2018-02-06 00:00:03  rp.20180115.gz:Jan    15   rp2  qmail:  1.515955e+09   \n",
       " 2018-02-06 00:00:04  rp.20180115.gz:Jan    15  rp13  qmail:  1.515955e+09   \n",
       " 2018-02-06 00:00:04  rp.20180115.gz:Jan    15  rp13  qmail:  1.515955e+09   \n",
       " 2018-02-06 00:00:04  rp.20180115.gz:Jan    15  rp13  qmail:  1.515955e+09   \n",
       " 2018-02-06 00:00:04  rp.20180115.gz:Jan    15   rp5  qmail:  1.515955e+09   \n",
       " 2018-02-06 00:00:04  rp.20180115.gz:Jan    15  rp13  qmail:  1.515955e+09   \n",
       " 2018-02-06 00:00:05  rp.20180115.gz:Jan    15   rp6  qmail:  1.515955e+09   \n",
       " 2018-02-06 00:00:05  rp.20180115.gz:Jan    15  rp13  qmail:  1.515955e+09   \n",
       " 2018-02-06 00:00:05  rp.20180115.gz:Jan    15   rp8  qmail:  1.515955e+09   \n",
       " 2018-02-06 00:00:05  rp.20180115.gz:Jan    15  rp13  qmail:  1.515955e+09   \n",
       " ...                                 ...   ...   ...     ...           ...   \n",
       " 2018-02-06 23:59:20  rp.20180115.gz:Jan    15   rp9  qmail:  1.516041e+09   \n",
       " 2018-02-06 23:59:20  rp.20180115.gz:Jan    15   rp5  qmail:  1.516041e+09   \n",
       " 2018-02-06 23:59:20  rp.20180115.gz:Jan    15  rp13  qmail:  1.516041e+09   \n",
       " 2018-02-06 23:59:24  rp.20180115.gz:Jan    15   rp6  qmail:  1.516041e+09   \n",
       " 2018-02-06 23:59:24  rp.20180115.gz:Jan    15  rp16  qmail:  1.516041e+09   \n",
       " 2018-02-06 23:59:26  rp.20180115.gz:Jan    15   rp8  qmail:  1.516041e+09   \n",
       " 2018-02-06 23:59:26  rp.20180115.gz:Jan    15  rp10  qmail:  1.516041e+09   \n",
       " 2018-02-06 23:59:27  rp.20180115.gz:Jan    15   rp2  qmail:  1.516041e+09   \n",
       " 2018-02-06 23:59:27  rp.20180115.gz:Jan    15  rp10  qmail:  1.516041e+09   \n",
       " 2018-02-06 23:59:27  rp.20180115.gz:Jan    15  rp10  qmail:  1.516041e+09   \n",
       " 2018-02-06 23:59:28  rp.20180115.gz:Jan    15  rp20  qmail:  1.516041e+09   \n",
       " 2018-02-06 23:59:28  rp.20180115.gz:Jan    15  rp14  qmail:  1.516041e+09   \n",
       " 2018-02-06 23:59:31  rp.20180115.gz:Jan    15   rp9  qmail:  1.516041e+09   \n",
       " 2018-02-06 23:59:31  rp.20180115.gz:Jan    15  rp14  qmail:  1.516041e+09   \n",
       " 2018-02-06 23:59:32  rp.20180115.gz:Jan    15   rp1  qmail:  1.516041e+09   \n",
       " 2018-02-06 23:59:32  rp.20180115.gz:Jan    15   rp1  qmail:  1.516041e+09   \n",
       " 2018-02-06 23:59:41  rp.20180115.gz:Jan    15   rp7  qmail:  1.516041e+09   \n",
       " 2018-02-06 23:59:43  rp.20180115.gz:Jan    15   rp5  qmail:  1.516041e+09   \n",
       " 2018-02-06 23:59:43  rp.20180115.gz:Jan    15  rp15  qmail:  1.516041e+09   \n",
       " 2018-02-06 23:59:43  rp.20180115.gz:Jan    15  rp15  qmail:  1.516041e+09   \n",
       " 2018-02-06 23:59:49  rp.20180115.gz:Jan    15   rp6  qmail:  1.516041e+09   \n",
       " 2018-02-06 23:59:49  rp.20180115.gz:Jan    15  rp10  qmail:  1.516041e+09   \n",
       " 2018-02-06 23:59:49  rp.20180115.gz:Jan    15   rp8  qmail:  1.516041e+09   \n",
       " 2018-02-06 23:59:49  rp.20180115.gz:Jan    15   rp9  qmail:  1.516041e+09   \n",
       " 2018-02-06 23:59:57  rp.20180115.gz:Jan    15   rp2  qmail:  1.516041e+09   \n",
       " 2018-02-06 23:59:57  rp.20180115.gz:Jan    15   rp9  qmail:  1.516041e+09   \n",
       " 2018-02-06 23:59:57  rp.20180115.gz:Jan    15   rp9  qmail:  1.516041e+09   \n",
       " 2018-02-06 23:59:58  rp.20180115.gz:Jan    15  rp20  qmail:  1.516041e+09   \n",
       " 2018-02-06 23:59:58  rp.20180115.gz:Jan    15   rp9  qmail:  1.516041e+09   \n",
       " 2018-02-06 23:59:58  rp.20180115.gz:Jan    15   rp9  qmail:  1.516041e+09   \n",
       " \n",
       "                     col7 col8    col9  \n",
       " col3                                   \n",
       " 2018-02-06 23:59:59  new  msg  130605  \n",
       " 2018-02-06 00:00:00  new  msg  130604  \n",
       " 2018-02-06 00:00:00  new  msg  130689  \n",
       " 2018-02-06 00:00:00  new  msg  130604  \n",
       " 2018-02-06 00:00:00  new  msg  130604  \n",
       " 2018-02-06 00:00:00  new  msg  130604  \n",
       " 2018-02-06 00:00:01  new  msg  130604  \n",
       " 2018-02-06 00:00:01  new  msg  130605  \n",
       " 2018-02-06 00:00:01  new  msg  130604  \n",
       " 2018-02-06 00:00:01  new  msg  131184  \n",
       " 2018-02-06 00:00:01  new  msg  130604  \n",
       " 2018-02-06 00:00:02  new  msg  130605  \n",
       " 2018-02-06 00:00:02  new  msg  130604  \n",
       " 2018-02-06 00:00:02  new  msg  131184  \n",
       " 2018-02-06 00:00:02  new  msg  130604  \n",
       " 2018-02-06 00:00:02  new  msg  130604  \n",
       " 2018-02-06 00:00:03  new  msg  130604  \n",
       " 2018-02-06 00:00:03  new  msg  130604  \n",
       " 2018-02-06 00:00:03  new  msg  130604  \n",
       " 2018-02-06 00:00:03  new  msg  130604  \n",
       " 2018-02-06 00:00:03  new  msg  130605  \n",
       " 2018-02-06 00:00:04  new  msg  130604  \n",
       " 2018-02-06 00:00:04  new  msg  130610  \n",
       " 2018-02-06 00:00:04  new  msg  130604  \n",
       " 2018-02-06 00:00:04  new  msg  131184  \n",
       " 2018-02-06 00:00:04  new  msg  130604  \n",
       " 2018-02-06 00:00:05  new  msg  130604  \n",
       " 2018-02-06 00:00:05  new  msg  130604  \n",
       " 2018-02-06 00:00:05  new  msg  130605  \n",
       " 2018-02-06 00:00:05  new  msg  130604  \n",
       " ...                  ...  ...     ...  \n",
       " 2018-02-06 23:59:20  new  msg  130606  \n",
       " 2018-02-06 23:59:20  new  msg  131184  \n",
       " 2018-02-06 23:59:20  new  msg  130604  \n",
       " 2018-02-06 23:59:24  new  msg  130611  \n",
       " 2018-02-06 23:59:24  new  msg  131314  \n",
       " 2018-02-06 23:59:26  new  msg  130606  \n",
       " 2018-02-06 23:59:26  new  msg  130668  \n",
       " 2018-02-06 23:59:27  new  msg  130618  \n",
       " 2018-02-06 23:59:27  new  msg  130668  \n",
       " 2018-02-06 23:59:27  new  msg  130698  \n",
       " 2018-02-06 23:59:28  new  msg  130604  \n",
       " 2018-02-06 23:59:28  new  msg  130626  \n",
       " 2018-02-06 23:59:31  new  msg  130606  \n",
       " 2018-02-06 23:59:31  new  msg  130626  \n",
       " 2018-02-06 23:59:32  new  msg  130705  \n",
       " 2018-02-06 23:59:32  new  msg  130706  \n",
       " 2018-02-06 23:59:41  new  msg  130609  \n",
       " 2018-02-06 23:59:43  new  msg  131184  \n",
       " 2018-02-06 23:59:43  new  msg  134222  \n",
       " 2018-02-06 23:59:43  new  msg  134255  \n",
       " 2018-02-06 23:59:49  new  msg  130611  \n",
       " 2018-02-06 23:59:49  new  msg  130668  \n",
       " 2018-02-06 23:59:49  new  msg  130606  \n",
       " 2018-02-06 23:59:49  new  msg  130606  \n",
       " 2018-02-06 23:59:57  new  msg  130618  \n",
       " 2018-02-06 23:59:57  new  msg  130606  \n",
       " 2018-02-06 23:59:57  new  msg  130611  \n",
       " 2018-02-06 23:59:58  new  msg  130604  \n",
       " 2018-02-06 23:59:58  new  msg  130606  \n",
       " 2018-02-06 23:59:58  new  msg  130612  \n",
       " \n",
       " [359529 rows x 8 columns], 77884)"
      ]
     },
     "execution_count": 40,
     "metadata": {},
     "output_type": "execute_result"
    }
   ],
   "source": [
    "df_new.head(), len(df_new)"
   ]
  },
  {
   "cell_type": "markdown",
   "metadata": {},
   "source": [
    "### practice"
   ]
  },
  {
   "cell_type": "code",
   "execution_count": 41,
   "metadata": {
    "collapsed": true
   },
   "outputs": [],
   "source": [
    "import datetime\n",
    "import random"
   ]
  },
  {
   "cell_type": "code",
   "execution_count": 43,
   "metadata": {},
   "outputs": [
    {
     "data": {
      "text/plain": [
       "[datetime.datetime(2018, 2, 6, 15, 17, 58, 818968),\n",
       " datetime.datetime(2018, 2, 6, 16, 17, 58, 819015),\n",
       " datetime.datetime(2018, 2, 6, 17, 17, 58, 819041),\n",
       " datetime.datetime(2018, 2, 6, 18, 17, 58, 819063),\n",
       " datetime.datetime(2018, 2, 6, 19, 17, 58, 819083),\n",
       " datetime.datetime(2018, 2, 6, 20, 17, 58, 820638),\n",
       " datetime.datetime(2018, 2, 6, 21, 17, 58, 820674),\n",
       " datetime.datetime(2018, 2, 6, 22, 17, 58, 820696),\n",
       " datetime.datetime(2018, 2, 6, 23, 17, 58, 820717),\n",
       " datetime.datetime(2018, 2, 7, 0, 17, 58, 820741),\n",
       " datetime.datetime(2018, 2, 7, 1, 17, 58, 820762),\n",
       " datetime.datetime(2018, 2, 7, 2, 17, 58, 820782)]"
      ]
     },
     "execution_count": 43,
     "metadata": {},
     "output_type": "execute_result"
    }
   ],
   "source": [
    "x = [datetime.datetime.now() + datetime.timedelta(hours=i) for i in range(12)]\n",
    "x"
   ]
  },
  {
   "cell_type": "code",
   "execution_count": 45,
   "metadata": {
    "scrolled": true
   },
   "outputs": [
    {
     "data": {
      "text/plain": [
       "DatetimeIndex(['2018-02-06 23:59:59', '2018-02-06 00:00:00',\n",
       "               '2018-02-06 00:00:00', '2018-02-06 00:00:00',\n",
       "               '2018-02-06 00:00:00', '2018-02-06 00:00:00',\n",
       "               '2018-02-06 00:00:00', '2018-02-06 00:00:00',\n",
       "               '2018-02-06 00:00:00', '2018-02-06 00:00:00',\n",
       "               ...\n",
       "               '2018-02-06 23:59:49', '2018-02-06 23:59:49',\n",
       "               '2018-02-06 23:59:49', '2018-02-06 23:59:49',\n",
       "               '2018-02-06 23:59:57', '2018-02-06 23:59:57',\n",
       "               '2018-02-06 23:59:57', '2018-02-06 23:59:58',\n",
       "               '2018-02-06 23:59:58', '2018-02-06 23:59:58'],\n",
       "              dtype='datetime64[ns]', name='col3', length=1314418, freq=None)"
      ]
     },
     "execution_count": 45,
     "metadata": {},
     "output_type": "execute_result"
    }
   ],
   "source": [
    "df.index"
   ]
  },
  {
   "cell_type": "code",
   "execution_count": 48,
   "metadata": {},
   "outputs": [
    {
     "data": {
      "text/html": [
       "<div>\n",
       "<style scoped>\n",
       "    .dataframe tbody tr th:only-of-type {\n",
       "        vertical-align: middle;\n",
       "    }\n",
       "\n",
       "    .dataframe tbody tr th {\n",
       "        vertical-align: top;\n",
       "    }\n",
       "\n",
       "    .dataframe thead th {\n",
       "        text-align: right;\n",
       "    }\n",
       "</style>\n",
       "<table border=\"1\" class=\"dataframe\">\n",
       "  <thead>\n",
       "    <tr style=\"text-align: right;\">\n",
       "      <th></th>\n",
       "      <th>col1</th>\n",
       "      <th>col2</th>\n",
       "      <th>col3</th>\n",
       "      <th>col4</th>\n",
       "      <th>col5</th>\n",
       "      <th>col6</th>\n",
       "      <th>col7</th>\n",
       "      <th>col8</th>\n",
       "      <th>col9</th>\n",
       "    </tr>\n",
       "  </thead>\n",
       "  <tbody>\n",
       "    <tr>\n",
       "      <th>780691</th>\n",
       "      <td>rp.20180115.gz:Jan</td>\n",
       "      <td>14</td>\n",
       "      <td>23:59:59</td>\n",
       "      <td>rp9</td>\n",
       "      <td>qmail:</td>\n",
       "      <td>1.515955e+09</td>\n",
       "      <td>new</td>\n",
       "      <td>msg</td>\n",
       "      <td>130605</td>\n",
       "    </tr>\n",
       "    <tr>\n",
       "      <th>780692</th>\n",
       "      <td>rp.20180115.gz:Jan</td>\n",
       "      <td>15</td>\n",
       "      <td>00:00:00</td>\n",
       "      <td>rp13</td>\n",
       "      <td>qmail:</td>\n",
       "      <td>1.515955e+09</td>\n",
       "      <td>new</td>\n",
       "      <td>msg</td>\n",
       "      <td>130604</td>\n",
       "    </tr>\n",
       "    <tr>\n",
       "      <th>780693</th>\n",
       "      <td>rp.20180115.gz:Jan</td>\n",
       "      <td>15</td>\n",
       "      <td>00:00:00</td>\n",
       "      <td>rp1</td>\n",
       "      <td>qmail:</td>\n",
       "      <td>1.515955e+09</td>\n",
       "      <td>new</td>\n",
       "      <td>msg</td>\n",
       "      <td>130689</td>\n",
       "    </tr>\n",
       "    <tr>\n",
       "      <th>780694</th>\n",
       "      <td>rp.20180115.gz:Jan</td>\n",
       "      <td>15</td>\n",
       "      <td>00:00:00</td>\n",
       "      <td>rp13</td>\n",
       "      <td>qmail:</td>\n",
       "      <td>1.515955e+09</td>\n",
       "      <td>new</td>\n",
       "      <td>msg</td>\n",
       "      <td>130604</td>\n",
       "    </tr>\n",
       "    <tr>\n",
       "      <th>780695</th>\n",
       "      <td>rp.20180115.gz:Jan</td>\n",
       "      <td>15</td>\n",
       "      <td>00:00:00</td>\n",
       "      <td>rp7</td>\n",
       "      <td>qmail:</td>\n",
       "      <td>1.515955e+09</td>\n",
       "      <td>new</td>\n",
       "      <td>msg</td>\n",
       "      <td>130604</td>\n",
       "    </tr>\n",
       "  </tbody>\n",
       "</table>\n",
       "</div>"
      ],
      "text/plain": [
       "                      col1  col2      col3  col4    col5          col6 col7  \\\n",
       "780691  rp.20180115.gz:Jan    14  23:59:59   rp9  qmail:  1.515955e+09  new   \n",
       "780692  rp.20180115.gz:Jan    15  00:00:00  rp13  qmail:  1.515955e+09  new   \n",
       "780693  rp.20180115.gz:Jan    15  00:00:00   rp1  qmail:  1.515955e+09  new   \n",
       "780694  rp.20180115.gz:Jan    15  00:00:00  rp13  qmail:  1.515955e+09  new   \n",
       "780695  rp.20180115.gz:Jan    15  00:00:00   rp7  qmail:  1.515955e+09  new   \n",
       "\n",
       "       col8    col9  \n",
       "780691  msg  130605  \n",
       "780692  msg  130604  \n",
       "780693  msg  130689  \n",
       "780694  msg  130604  \n",
       "780695  msg  130604  "
      ]
     },
     "execution_count": 48,
     "metadata": {},
     "output_type": "execute_result"
    }
   ],
   "source": [
    "table_space_15.head()"
   ]
  },
  {
   "cell_type": "markdown",
   "metadata": {},
   "source": [
    "# Visualization Final"
   ]
  },
  {
   "cell_type": "markdown",
   "metadata": {},
   "source": [
    "## jan 15"
   ]
  },
  {
   "cell_type": "code",
   "execution_count": 14,
   "metadata": {
    "collapsed": true
   },
   "outputs": [],
   "source": [
    "df= table_space_15.groupby([\"col3\"]).size()"
   ]
  },
  {
   "cell_type": "code",
   "execution_count": 15,
   "metadata": {},
   "outputs": [
    {
     "data": {
      "text/plain": [
       "(col3\n",
       " 00:00:00    22\n",
       " 00:00:01    18\n",
       " 00:00:02    32\n",
       " 00:00:03    23\n",
       " 00:00:04    21\n",
       " dtype: int64, 77884)"
      ]
     },
     "execution_count": 15,
     "metadata": {},
     "output_type": "execute_result"
    }
   ],
   "source": [
    "df.head(), len(df)"
   ]
  },
  {
   "cell_type": "code",
   "execution_count": 16,
   "metadata": {},
   "outputs": [
    {
     "data": {
      "text/plain": [
       "pandas.core.series.Series"
      ]
     },
     "execution_count": 16,
     "metadata": {},
     "output_type": "execute_result"
    }
   ],
   "source": [
    "type(df)"
   ]
  },
  {
   "cell_type": "code",
   "execution_count": 17,
   "metadata": {},
   "outputs": [
    {
     "data": {
      "text/plain": [
       "<matplotlib.axes._subplots.AxesSubplot at 0x7f8dc4f44208>"
      ]
     },
     "execution_count": 17,
     "metadata": {},
     "output_type": "execute_result"
    }
   ],
   "source": [
    "df.plot()"
   ]
  },
  {
   "cell_type": "code",
   "execution_count": 18,
   "metadata": {},
   "outputs": [
    {
     "data": {
      "image/png": "[encoded data removed]",
      "text/plain": [
       "<matplotlib.figure.Figure at 0x7f8dc4f91e10>"
      ]
     },
     "metadata": {},
     "output_type": "display_data"
    }
   ],
   "source": [
    "plt.show()\n",
    "#plt.savefig(\"jan15-3.png\")"
   ]
  },
  {
   "cell_type": "markdown",
   "metadata": {},
   "source": [
    "## jan 16"
   ]
  },
  {
   "cell_type": "code",
   "execution_count": 19,
   "metadata": {},
   "outputs": [
    {
     "data": {
      "text/html": [
       "<div>\n",
       "<style scoped>\n",
       "    .dataframe tbody tr th:only-of-type {\n",
       "        vertical-align: middle;\n",
       "    }\n",
       "\n",
       "    .dataframe tbody tr th {\n",
       "        vertical-align: top;\n",
       "    }\n",
       "\n",
       "    .dataframe thead th {\n",
       "        text-align: right;\n",
       "    }\n",
       "</style>\n",
       "<table border=\"1\" class=\"dataframe\">\n",
       "  <thead>\n",
       "    <tr style=\"text-align: right;\">\n",
       "      <th></th>\n",
       "      <th>col1</th>\n",
       "      <th>col2</th>\n",
       "      <th>col3</th>\n",
       "      <th>col4</th>\n",
       "      <th>col5</th>\n",
       "      <th>col6</th>\n",
       "      <th>col7</th>\n",
       "      <th>col8</th>\n",
       "      <th>col9</th>\n",
       "    </tr>\n",
       "  </thead>\n",
       "  <tbody>\n",
       "    <tr>\n",
       "      <th>2095109</th>\n",
       "      <td>rp.20180116.gz:Jan</td>\n",
       "      <td>16</td>\n",
       "      <td>00:00:01</td>\n",
       "      <td>rp9</td>\n",
       "      <td>qmail:</td>\n",
       "      <td>1.516041e+09</td>\n",
       "      <td>new</td>\n",
       "      <td>msg</td>\n",
       "      <td>130606</td>\n",
       "    </tr>\n",
       "    <tr>\n",
       "      <th>2095110</th>\n",
       "      <td>rp.20180116.gz:Jan</td>\n",
       "      <td>16</td>\n",
       "      <td>00:00:01</td>\n",
       "      <td>rp13</td>\n",
       "      <td>qmail:</td>\n",
       "      <td>1.516041e+09</td>\n",
       "      <td>new</td>\n",
       "      <td>msg</td>\n",
       "      <td>130604</td>\n",
       "    </tr>\n",
       "    <tr>\n",
       "      <th>2095111</th>\n",
       "      <td>rp.20180116.gz:Jan</td>\n",
       "      <td>16</td>\n",
       "      <td>00:00:02</td>\n",
       "      <td>rp1</td>\n",
       "      <td>qmail:</td>\n",
       "      <td>1.516041e+09</td>\n",
       "      <td>new</td>\n",
       "      <td>msg</td>\n",
       "      <td>130705</td>\n",
       "    </tr>\n",
       "    <tr>\n",
       "      <th>2095112</th>\n",
       "      <td>rp.20180116.gz:Jan</td>\n",
       "      <td>16</td>\n",
       "      <td>00:00:02</td>\n",
       "      <td>rp2</td>\n",
       "      <td>qmail:</td>\n",
       "      <td>1.516041e+09</td>\n",
       "      <td>new</td>\n",
       "      <td>msg</td>\n",
       "      <td>130618</td>\n",
       "    </tr>\n",
       "    <tr>\n",
       "      <th>2095113</th>\n",
       "      <td>rp.20180116.gz:Jan</td>\n",
       "      <td>16</td>\n",
       "      <td>00:00:02</td>\n",
       "      <td>rp2</td>\n",
       "      <td>qmail:</td>\n",
       "      <td>1.516041e+09</td>\n",
       "      <td>new</td>\n",
       "      <td>msg</td>\n",
       "      <td>130637</td>\n",
       "    </tr>\n",
       "  </tbody>\n",
       "</table>\n",
       "</div>"
      ],
      "text/plain": [
       "                       col1  col2      col3  col4    col5          col6 col7  \\\n",
       "2095109  rp.20180116.gz:Jan    16  00:00:01   rp9  qmail:  1.516041e+09  new   \n",
       "2095110  rp.20180116.gz:Jan    16  00:00:01  rp13  qmail:  1.516041e+09  new   \n",
       "2095111  rp.20180116.gz:Jan    16  00:00:02   rp1  qmail:  1.516041e+09  new   \n",
       "2095112  rp.20180116.gz:Jan    16  00:00:02   rp2  qmail:  1.516041e+09  new   \n",
       "2095113  rp.20180116.gz:Jan    16  00:00:02   rp2  qmail:  1.516041e+09  new   \n",
       "\n",
       "        col8    col9  \n",
       "2095109  msg  130606  \n",
       "2095110  msg  130604  \n",
       "2095111  msg  130705  \n",
       "2095112  msg  130618  \n",
       "2095113  msg  130637  "
      ]
     },
     "execution_count": 19,
     "metadata": {},
     "output_type": "execute_result"
    }
   ],
   "source": [
    "table_space_16.head()"
   ]
  },
  {
   "cell_type": "code",
   "execution_count": 20,
   "metadata": {
    "collapsed": true
   },
   "outputs": [],
   "source": [
    "df16 = table_space_16.groupby([\"col3\"]).size()"
   ]
  },
  {
   "cell_type": "code",
   "execution_count": 21,
   "metadata": {},
   "outputs": [
    {
     "data": {
      "image/png": "[encoded data removed]",
      "text/plain": [
       "<matplotlib.figure.Figure at 0x7f8dc4c3a2e8>"
      ]
     },
     "metadata": {},
     "output_type": "display_data"
    }
   ],
   "source": [
    "df16.plot()\n",
    "plt.show()"
   ]
  },
  {
   "cell_type": "markdown",
   "metadata": {},
   "source": [
    "## jan 17"
   ]
  },
  {
   "cell_type": "code",
   "execution_count": 22,
   "metadata": {},
   "outputs": [
    {
     "data": {
      "image/png": "[encoded data removed]",
      "text/plain": [
       "<matplotlib.figure.Figure at 0x7f8dc4cd35c0>"
      ]
     },
     "metadata": {},
     "output_type": "display_data"
    }
   ],
   "source": [
    "df17 = table_space_17.groupby([\"col3\"]).size()\n",
    "df17.plot()\n",
    "plt.show()"
   ]
  },
  {
   "cell_type": "markdown",
   "metadata": {},
   "source": [
    "## jan 18"
   ]
  },
  {
   "cell_type": "code",
   "execution_count": 23,
   "metadata": {},
   "outputs": [
    {
     "data": {
      "image/png": "[encoded data removed]",
      "text/plain": [
       "<matplotlib.figure.Figure at 0x7f8dc4e81320>"
      ]
     },
     "metadata": {},
     "output_type": "display_data"
    }
   ],
   "source": [
    "df18 = table_space_18.groupby([\"col3\"]).size()\n",
    "df18.plot()\n",
    "plt.show()"
   ]
  },
  {
   "cell_type": "markdown",
   "metadata": {},
   "source": [
    "## jan 19"
   ]
  },
  {
   "cell_type": "code",
   "execution_count": 24,
   "metadata": {},
   "outputs": [
    {
     "data": {
      "image/png": "[encoded data removed]",
      "text/plain": [
       "<matplotlib.figure.Figure at 0x7f8dc4c08eb8>"
      ]
     },
     "metadata": {},
     "output_type": "display_data"
    }
   ],
   "source": [
    "df19 = table_space_19.groupby([\"col3\"]).size()\n",
    "df19.plot()\n",
    "plt.show()"
   ]
  },
  {
   "cell_type": "markdown",
   "metadata": {},
   "source": [
    "## jan 13 "
   ]
  },
  {
   "cell_type": "code",
   "execution_count": 25,
   "metadata": {},
   "outputs": [
    {
     "data": {
      "image/png": "[encoded data removed]",
      "text/plain": [
       "<matplotlib.figure.Figure at 0x7f8dc4c59550>"
      ]
     },
     "metadata": {},
     "output_type": "display_data"
    }
   ],
   "source": [
    "df13 = table_space_13.groupby([\"col3\"]).size()\n",
    "df13.plot()\n",
    "plt.show()"
   ]
  },
  {
   "cell_type": "markdown",
   "metadata": {},
   "source": [
    "## jan 14"
   ]
  },
  {
   "cell_type": "code",
   "execution_count": 26,
   "metadata": {},
   "outputs": [
    {
     "data": {
      "image/png": "[encoded data removed]",
      "text/plain": [
       "<matplotlib.figure.Figure at 0x7f8dc4c9ccf8>"
      ]
     },
     "metadata": {},
     "output_type": "display_data"
    }
   ],
   "source": [
    "df14 = table_space_14.groupby([\"col3\"]).size()\n",
    "df14.plot()\n",
    "plt.show()\n",
    "#plt.savefig(\"jan14-3.png\")"
   ]
  },
  {
   "cell_type": "code",
   "execution_count": 67,
   "metadata": {},
   "outputs": [
    {
     "data": {
      "text/plain": [
       "<matplotlib.figure.Figure at 0x7f2600853e48>"
      ]
     },
     "metadata": {},
     "output_type": "display_data"
    }
   ],
   "source": [
    "#plt.savefig(\"jan14.jpg\")\n",
    "#plt.show()"
   ]
  },
  {
   "cell_type": "markdown",
   "metadata": {
    "collapsed": true
   },
   "source": [
    "# Visulisation: Extended"
   ]
  },
  {
   "cell_type": "code",
   "execution_count": 27,
   "metadata": {},
   "outputs": [
    {
     "data": {
      "text/plain": [
       "'\\nGrouby col4(rp4,rp3, rp5 ...etc. ) then col3(time hh:mm:ss)\\n'"
      ]
     },
     "execution_count": 27,
     "metadata": {},
     "output_type": "execute_result"
    }
   ],
   "source": [
    "\"\"\"\n",
    "Grouby col4(rp4,rp3, rp5 ...etc. ) then col3(time hh:mm:ss)\n",
    "\"\"\""
   ]
  },
  {
   "cell_type": "code",
   "execution_count": 29,
   "metadata": {},
   "outputs": [
    {
     "data": {
      "image/png": "[encoded data removed]",
      "text/plain": [
       "<matplotlib.figure.Figure at 0x7f8dc4df3e48>"
      ]
     },
     "metadata": {},
     "output_type": "display_data"
    }
   ],
   "source": [
    "df14 = table_space_14.groupby([\"col4\"]).size()\n",
    "df14.plot()\n",
    "plt.show()"
   ]
  },
  {
   "cell_type": "code",
   "execution_count": 31,
   "metadata": {},
   "outputs": [
    {
     "data": {
      "text/plain": [
       "(col4\n",
       " rp1      38523\n",
       " rp10     18250\n",
       " rp11      2093\n",
       " rp12       537\n",
       " rp13    168389\n",
       " dtype: int64, pandas.core.series.Series)"
      ]
     },
     "execution_count": 31,
     "metadata": {},
     "output_type": "execute_result"
    }
   ],
   "source": [
    "df14.head(), type(df14)"
   ]
  },
  {
   "cell_type": "code",
   "execution_count": null,
   "metadata": {
    "collapsed": true
   },
   "outputs": [],
   "source": []
  }
 ],
 "metadata": {
  "kernelspec": {
   "display_name": "Python 3",
   "language": "python",
   "name": "python3"
  },
  "language_info": {
   "codemirror_mode": {
    "name": "ipython",
    "version": 3
   },
   "file_extension": ".py",
   "mimetype": "text/x-python",
   "name": "python",
   "nbconvert_exporter": "python",
   "pygments_lexer": "ipython3",
   "version": "3.6.3"
  },
  "toc": {
   "nav_menu": {},
   "number_sections": true,
   "sideBar": true,
   "skip_h1_title": false,
   "toc_cell": false,
   "toc_position": {},
   "toc_section_display": "block",
   "toc_window_display": false
  },
  "varInspector": {
   "cols": {
    "lenName": 16,
    "lenType": 16,
    "lenVar": 40
   },
   "kernels_config": {
    "python": {
     "delete_cmd_postfix": "",
     "delete_cmd_prefix": "del ",
     "library": "var_list.py",
     "varRefreshCmd": "print(var_dic_list())"
    },
    "r": {
     "delete_cmd_postfix": ") ",
     "delete_cmd_prefix": "rm(",
     "library": "var_list.r",
     "varRefreshCmd": "cat(var_dic_list()) "
    }
   },
   "types_to_exclude": [
    "module",
    "function",
    "builtin_function_or_method",
    "instance",
    "_Feature"
   ],
   "window_display": false
  }
 },
 "nbformat": 4,
 "nbformat_minor": 2
}
